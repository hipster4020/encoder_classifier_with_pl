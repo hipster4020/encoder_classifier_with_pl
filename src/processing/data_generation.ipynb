{
 "cells": [
  {
   "cell_type": "markdown",
   "id": "ea049993",
   "metadata": {},
   "source": [
    "# *👉🏻 data load*"
   ]
  },
  {
   "cell_type": "code",
   "execution_count": 1,
   "id": "f06e1c4c",
   "metadata": {},
   "outputs": [],
   "source": [
    "import config\n",
    "from pshmodule.utils import filemanager as fm"
   ]
  },
  {
   "cell_type": "code",
   "execution_count": 2,
   "id": "21ea937e",
   "metadata": {},
   "outputs": [
    {
     "name": "stdout",
     "output_type": "stream",
     "text": [
      "extension : .xlsx\n",
      "Loaded 10000 records from /home/shpark/team_ai/practice/transformer_encoder_torch/data/aihub_sentiment.xlsx\n"
     ]
    }
   ],
   "source": [
    "df_aihub = fm.load(config.aihub)"
   ]
  },
  {
   "cell_type": "code",
   "execution_count": 3,
   "id": "48eab9e1",
   "metadata": {},
   "outputs": [
    {
     "name": "stdout",
     "output_type": "stream",
     "text": [
      "extension : .json\n",
      "Loaded 25444 records from /home/shpark/team_ai/practice/transformer_encoder_torch/data/news_data_25444.json\n"
     ]
    }
   ],
   "source": [
    "df_news = fm.load(config.news)"
   ]
  },
  {
   "cell_type": "markdown",
   "id": "8edb3fe1",
   "metadata": {},
   "source": [
    "# *👉🏻 data preprocessing* "
   ]
  },
  {
   "cell_type": "code",
   "execution_count": 4,
   "id": "66167a50",
   "metadata": {},
   "outputs": [],
   "source": [
    "import re\n",
    "import pandas as pd"
   ]
  },
  {
   "cell_type": "markdown",
   "id": "609abf6b",
   "metadata": {},
   "source": [
    "### AI Hub\n",
    "기쁨 → 긍정, 슬픔 → 부정으로 replacing 처리"
   ]
  },
  {
   "cell_type": "code",
   "execution_count": 5,
   "id": "083f7074",
   "metadata": {},
   "outputs": [],
   "source": [
    "df_aihub['content'] = df_aihub.사람문장1 + \" \" + df_aihub.사람문장2 + \" \" + df_aihub.사람문장3"
   ]
  },
  {
   "cell_type": "code",
   "execution_count": 6,
   "id": "841375f9",
   "metadata": {},
   "outputs": [],
   "source": [
    "df_aihub.rename(columns={'감정_대분류':'label'}, inplace=True)"
   ]
  },
  {
   "cell_type": "code",
   "execution_count": 7,
   "id": "d3cc286a",
   "metadata": {},
   "outputs": [],
   "source": [
    "df_aihub = df_aihub[['content', 'label']]"
   ]
  },
  {
   "cell_type": "code",
   "execution_count": 8,
   "id": "95cb5d6d",
   "metadata": {},
   "outputs": [
    {
     "data": {
      "text/html": [
       "<div>\n",
       "<style scoped>\n",
       "    .dataframe tbody tr th:only-of-type {\n",
       "        vertical-align: middle;\n",
       "    }\n",
       "\n",
       "    .dataframe tbody tr th {\n",
       "        vertical-align: top;\n",
       "    }\n",
       "\n",
       "    .dataframe thead th {\n",
       "        text-align: right;\n",
       "    }\n",
       "</style>\n",
       "<table border=\"1\" class=\"dataframe\">\n",
       "  <thead>\n",
       "    <tr style=\"text-align: right;\">\n",
       "      <th></th>\n",
       "      <th>content</th>\n",
       "      <th>label</th>\n",
       "    </tr>\n",
       "  </thead>\n",
       "  <tbody>\n",
       "    <tr>\n",
       "      <th>0</th>\n",
       "      <td>오늘 반장 선거에서 내가 반장이 됐어! 친구들이 날 믿어줘서 너무 고맙다. 친구들에...</td>\n",
       "      <td>기쁨</td>\n",
       "    </tr>\n",
       "    <tr>\n",
       "      <th>1</th>\n",
       "      <td>오늘 시험에 친구가 알려준 문제가 나왔어. 결과가 좋아서 기쁘다. 말로 하기 쑥스러...</td>\n",
       "      <td>기쁨</td>\n",
       "    </tr>\n",
       "    <tr>\n",
       "      <th>2</th>\n",
       "      <td>오늘 대학 합격 통지를 받았어. 엄마가 너무 기뻐하는데 나는 눈물이 났어. 사실 이...</td>\n",
       "      <td>기쁨</td>\n",
       "    </tr>\n",
       "    <tr>\n",
       "      <th>3</th>\n",
       "      <td>오늘 졸업식인데 선생님께서 아프셔서 오지 못하셨어. 그동안 감사하다는 말도 못했는데...</td>\n",
       "      <td>기쁨</td>\n",
       "    </tr>\n",
       "    <tr>\n",
       "      <th>4</th>\n",
       "      <td>나 올림피아드에서 금상 받았어! 그동안 고생이 헛되지 않아서 너무 기뻐. 근데 친구...</td>\n",
       "      <td>기쁨</td>\n",
       "    </tr>\n",
       "  </tbody>\n",
       "</table>\n",
       "</div>"
      ],
      "text/plain": [
       "                                             content label\n",
       "0  오늘 반장 선거에서 내가 반장이 됐어! 친구들이 날 믿어줘서 너무 고맙다. 친구들에...    기쁨\n",
       "1  오늘 시험에 친구가 알려준 문제가 나왔어. 결과가 좋아서 기쁘다. 말로 하기 쑥스러...    기쁨\n",
       "2  오늘 대학 합격 통지를 받았어. 엄마가 너무 기뻐하는데 나는 눈물이 났어. 사실 이...    기쁨\n",
       "3  오늘 졸업식인데 선생님께서 아프셔서 오지 못하셨어. 그동안 감사하다는 말도 못했는데...    기쁨\n",
       "4  나 올림피아드에서 금상 받았어! 그동안 고생이 헛되지 않아서 너무 기뻐. 근데 친구...    기쁨"
      ]
     },
     "execution_count": 8,
     "metadata": {},
     "output_type": "execute_result"
    }
   ],
   "source": [
    "df_aihub.head()"
   ]
  },
  {
   "cell_type": "code",
   "execution_count": 9,
   "id": "9dbd9ac1",
   "metadata": {},
   "outputs": [],
   "source": [
    "df_aihub['label'] = df_aihub.label.str.replace('기쁨', '긍정')"
   ]
  },
  {
   "cell_type": "code",
   "execution_count": 10,
   "id": "3bc66d80",
   "metadata": {},
   "outputs": [],
   "source": [
    "df_aihub['label'] = df_aihub.label.str.replace('슬픔', '부정')"
   ]
  },
  {
   "cell_type": "code",
   "execution_count": 11,
   "id": "68e6861c",
   "metadata": {},
   "outputs": [
    {
     "data": {
      "text/plain": [
       "부정    1691\n",
       "긍정    1679\n",
       "불안    1677\n",
       "상처    1666\n",
       "분노    1660\n",
       "당황    1627\n",
       "Name: label, dtype: int64"
      ]
     },
     "execution_count": 11,
     "metadata": {},
     "output_type": "execute_result"
    }
   ],
   "source": [
    "df_aihub.label.value_counts()"
   ]
  },
  {
   "cell_type": "code",
   "execution_count": 12,
   "id": "85e3a6f5",
   "metadata": {},
   "outputs": [],
   "source": [
    "df_aihub = df_aihub[df_aihub.label.apply(lambda x: '긍정' in x or '부정' in x)]"
   ]
  },
  {
   "cell_type": "code",
   "execution_count": 13,
   "id": "67c124f2",
   "metadata": {},
   "outputs": [
    {
     "data": {
      "text/plain": [
       "부정    1691\n",
       "긍정    1679\n",
       "Name: label, dtype: int64"
      ]
     },
     "execution_count": 13,
     "metadata": {},
     "output_type": "execute_result"
    }
   ],
   "source": [
    "df_aihub.label.value_counts()"
   ]
  },
  {
   "cell_type": "code",
   "execution_count": 14,
   "id": "35df7695",
   "metadata": {},
   "outputs": [],
   "source": [
    "df_aihub = df_aihub[['content', 'label']]"
   ]
  },
  {
   "cell_type": "code",
   "execution_count": 15,
   "id": "5a6b107a",
   "metadata": {},
   "outputs": [
    {
     "data": {
      "text/html": [
       "<div>\n",
       "<style scoped>\n",
       "    .dataframe tbody tr th:only-of-type {\n",
       "        vertical-align: middle;\n",
       "    }\n",
       "\n",
       "    .dataframe tbody tr th {\n",
       "        vertical-align: top;\n",
       "    }\n",
       "\n",
       "    .dataframe thead th {\n",
       "        text-align: right;\n",
       "    }\n",
       "</style>\n",
       "<table border=\"1\" class=\"dataframe\">\n",
       "  <thead>\n",
       "    <tr style=\"text-align: right;\">\n",
       "      <th></th>\n",
       "      <th>content</th>\n",
       "      <th>label</th>\n",
       "    </tr>\n",
       "  </thead>\n",
       "  <tbody>\n",
       "    <tr>\n",
       "      <th>0</th>\n",
       "      <td>오늘 반장 선거에서 내가 반장이 됐어! 친구들이 날 믿어줘서 너무 고맙다. 친구들에...</td>\n",
       "      <td>긍정</td>\n",
       "    </tr>\n",
       "    <tr>\n",
       "      <th>1</th>\n",
       "      <td>오늘 시험에 친구가 알려준 문제가 나왔어. 결과가 좋아서 기쁘다. 말로 하기 쑥스러...</td>\n",
       "      <td>긍정</td>\n",
       "    </tr>\n",
       "    <tr>\n",
       "      <th>2</th>\n",
       "      <td>오늘 대학 합격 통지를 받았어. 엄마가 너무 기뻐하는데 나는 눈물이 났어. 사실 이...</td>\n",
       "      <td>긍정</td>\n",
       "    </tr>\n",
       "    <tr>\n",
       "      <th>3</th>\n",
       "      <td>오늘 졸업식인데 선생님께서 아프셔서 오지 못하셨어. 그동안 감사하다는 말도 못했는데...</td>\n",
       "      <td>긍정</td>\n",
       "    </tr>\n",
       "    <tr>\n",
       "      <th>4</th>\n",
       "      <td>나 올림피아드에서 금상 받았어! 그동안 고생이 헛되지 않아서 너무 기뻐. 근데 친구...</td>\n",
       "      <td>긍정</td>\n",
       "    </tr>\n",
       "  </tbody>\n",
       "</table>\n",
       "</div>"
      ],
      "text/plain": [
       "                                             content label\n",
       "0  오늘 반장 선거에서 내가 반장이 됐어! 친구들이 날 믿어줘서 너무 고맙다. 친구들에...    긍정\n",
       "1  오늘 시험에 친구가 알려준 문제가 나왔어. 결과가 좋아서 기쁘다. 말로 하기 쑥스러...    긍정\n",
       "2  오늘 대학 합격 통지를 받았어. 엄마가 너무 기뻐하는데 나는 눈물이 났어. 사실 이...    긍정\n",
       "3  오늘 졸업식인데 선생님께서 아프셔서 오지 못하셨어. 그동안 감사하다는 말도 못했는데...    긍정\n",
       "4  나 올림피아드에서 금상 받았어! 그동안 고생이 헛되지 않아서 너무 기뻐. 근데 친구...    긍정"
      ]
     },
     "execution_count": 15,
     "metadata": {},
     "output_type": "execute_result"
    }
   ],
   "source": [
    "df_aihub.head()"
   ]
  },
  {
   "cell_type": "markdown",
   "id": "7cd2f6a1",
   "metadata": {},
   "source": [
    "#### 특수문자 제거"
   ]
  },
  {
   "cell_type": "code",
   "execution_count": 16,
   "id": "b019716b",
   "metadata": {},
   "outputs": [],
   "source": [
    "df_aihub['content'] = df_aihub.content.apply(lambda x: re.sub('[-=+,#/\\?:^.@*\\\"※~ㆍ!』‘|\\(\\)\\[\\]`\\'…》\\”\\“\\’·]', '', str(x)))"
   ]
  },
  {
   "cell_type": "code",
   "execution_count": 17,
   "id": "7f59283b",
   "metadata": {},
   "outputs": [
    {
     "data": {
      "text/html": [
       "<div>\n",
       "<style scoped>\n",
       "    .dataframe tbody tr th:only-of-type {\n",
       "        vertical-align: middle;\n",
       "    }\n",
       "\n",
       "    .dataframe tbody tr th {\n",
       "        vertical-align: top;\n",
       "    }\n",
       "\n",
       "    .dataframe thead th {\n",
       "        text-align: right;\n",
       "    }\n",
       "</style>\n",
       "<table border=\"1\" class=\"dataframe\">\n",
       "  <thead>\n",
       "    <tr style=\"text-align: right;\">\n",
       "      <th></th>\n",
       "      <th>content</th>\n",
       "      <th>label</th>\n",
       "    </tr>\n",
       "  </thead>\n",
       "  <tbody>\n",
       "    <tr>\n",
       "      <th>0</th>\n",
       "      <td>오늘 반장 선거에서 내가 반장이 됐어 친구들이 날 믿어줘서 너무 고맙다 친구들에게 ...</td>\n",
       "      <td>긍정</td>\n",
       "    </tr>\n",
       "    <tr>\n",
       "      <th>1</th>\n",
       "      <td>오늘 시험에 친구가 알려준 문제가 나왔어 결과가 좋아서 기쁘다 말로 하기 쑥스러운데...</td>\n",
       "      <td>긍정</td>\n",
       "    </tr>\n",
       "    <tr>\n",
       "      <th>2</th>\n",
       "      <td>오늘 대학 합격 통지를 받았어 엄마가 너무 기뻐하는데 나는 눈물이 났어 사실 이렇게...</td>\n",
       "      <td>긍정</td>\n",
       "    </tr>\n",
       "    <tr>\n",
       "      <th>3</th>\n",
       "      <td>오늘 졸업식인데 선생님께서 아프셔서 오지 못하셨어 그동안 감사하다는 말도 못했는데 ...</td>\n",
       "      <td>긍정</td>\n",
       "    </tr>\n",
       "    <tr>\n",
       "      <th>4</th>\n",
       "      <td>나 올림피아드에서 금상 받았어 그동안 고생이 헛되지 않아서 너무 기뻐 근데 친구들이...</td>\n",
       "      <td>긍정</td>\n",
       "    </tr>\n",
       "  </tbody>\n",
       "</table>\n",
       "</div>"
      ],
      "text/plain": [
       "                                             content label\n",
       "0  오늘 반장 선거에서 내가 반장이 됐어 친구들이 날 믿어줘서 너무 고맙다 친구들에게 ...    긍정\n",
       "1  오늘 시험에 친구가 알려준 문제가 나왔어 결과가 좋아서 기쁘다 말로 하기 쑥스러운데...    긍정\n",
       "2  오늘 대학 합격 통지를 받았어 엄마가 너무 기뻐하는데 나는 눈물이 났어 사실 이렇게...    긍정\n",
       "3  오늘 졸업식인데 선생님께서 아프셔서 오지 못하셨어 그동안 감사하다는 말도 못했는데 ...    긍정\n",
       "4  나 올림피아드에서 금상 받았어 그동안 고생이 헛되지 않아서 너무 기뻐 근데 친구들이...    긍정"
      ]
     },
     "execution_count": 17,
     "metadata": {},
     "output_type": "execute_result"
    }
   ],
   "source": [
    "df_aihub.head()"
   ]
  },
  {
   "cell_type": "markdown",
   "id": "508a65b1",
   "metadata": {},
   "source": [
    "### news"
   ]
  },
  {
   "cell_type": "code",
   "execution_count": 18,
   "id": "e11b8d14",
   "metadata": {},
   "outputs": [
    {
     "data": {
      "text/plain": [
       "0    22060\n",
       "1     2239\n",
       "2     1145\n",
       "Name: label, dtype: int64"
      ]
     },
     "execution_count": 18,
     "metadata": {},
     "output_type": "execute_result"
    }
   ],
   "source": [
    "df_news.label.value_counts()"
   ]
  },
  {
   "cell_type": "code",
   "execution_count": 19,
   "id": "7ae00401",
   "metadata": {},
   "outputs": [],
   "source": [
    "df_news = df_news[~df_news.label.str.contains('0')]"
   ]
  },
  {
   "cell_type": "code",
   "execution_count": 20,
   "id": "044230ff",
   "metadata": {},
   "outputs": [
    {
     "data": {
      "text/plain": [
       "1    2239\n",
       "2    1145\n",
       "Name: label, dtype: int64"
      ]
     },
     "execution_count": 20,
     "metadata": {},
     "output_type": "execute_result"
    }
   ],
   "source": [
    "df_news.label.value_counts()"
   ]
  },
  {
   "cell_type": "code",
   "execution_count": 21,
   "id": "a89870c3",
   "metadata": {},
   "outputs": [
    {
     "data": {
      "text/html": [
       "<div>\n",
       "<style scoped>\n",
       "    .dataframe tbody tr th:only-of-type {\n",
       "        vertical-align: middle;\n",
       "    }\n",
       "\n",
       "    .dataframe tbody tr th {\n",
       "        vertical-align: top;\n",
       "    }\n",
       "\n",
       "    .dataframe thead th {\n",
       "        text-align: right;\n",
       "    }\n",
       "</style>\n",
       "<table border=\"1\" class=\"dataframe\">\n",
       "  <thead>\n",
       "    <tr style=\"text-align: right;\">\n",
       "      <th></th>\n",
       "      <th>content</th>\n",
       "      <th>label</th>\n",
       "    </tr>\n",
       "  </thead>\n",
       "  <tbody>\n",
       "    <tr>\n",
       "      <th>4</th>\n",
       "      <td>Koreas venture space has been filled with vari...</td>\n",
       "      <td>2</td>\n",
       "    </tr>\n",
       "    <tr>\n",
       "      <th>5</th>\n",
       "      <td>Samsung Electronics claims to have developed t...</td>\n",
       "      <td>2</td>\n",
       "    </tr>\n",
       "    <tr>\n",
       "      <th>21</th>\n",
       "      <td>Daum Kakao  today introduced Secret Chat mode ...</td>\n",
       "      <td>2</td>\n",
       "    </tr>\n",
       "    <tr>\n",
       "      <th>64</th>\n",
       "      <td>Tech for Korea has been on hiatus for half a y...</td>\n",
       "      <td>2</td>\n",
       "    </tr>\n",
       "    <tr>\n",
       "      <th>66</th>\n",
       "      <td>신차구매 어플리케이션 서비스를 제공하고 있는 겟차에서 차량 구매 예정자의 고충을 해...</td>\n",
       "      <td>1</td>\n",
       "    </tr>\n",
       "    <tr>\n",
       "      <th>74</th>\n",
       "      <td>In the Korean economy startups are rising as t...</td>\n",
       "      <td>2</td>\n",
       "    </tr>\n",
       "    <tr>\n",
       "      <th>83</th>\n",
       "      <td>The exchange rates of cryptocurrencies like Bi...</td>\n",
       "      <td>2</td>\n",
       "    </tr>\n",
       "    <tr>\n",
       "      <th>118</th>\n",
       "      <td>Fintech startup QARA  announced that its longa...</td>\n",
       "      <td>2</td>\n",
       "    </tr>\n",
       "    <tr>\n",
       "      <th>136</th>\n",
       "      <td>Berlin December 13 2019  Today Delivery Hero S...</td>\n",
       "      <td>2</td>\n",
       "    </tr>\n",
       "    <tr>\n",
       "      <th>144</th>\n",
       "      <td>삼성전자와 LG전자가 2020년형 에어컨 신제품을 연이어 공개하며 한겨울 에어컨 전...</td>\n",
       "      <td>2</td>\n",
       "    </tr>\n",
       "    <tr>\n",
       "      <th>145</th>\n",
       "      <td>은행권청년창업재단 디캠프가 올해 첫 디데이를 홍콩투자청 홍콩경제무역대표부와 함께 개...</td>\n",
       "      <td>1</td>\n",
       "    </tr>\n",
       "    <tr>\n",
       "      <th>146</th>\n",
       "      <td>한국사회에서 게임을 대하는 태도는 모순적이다. 수출 효자산업으로 각광받는 동시에 청...</td>\n",
       "      <td>1</td>\n",
       "    </tr>\n",
       "    <tr>\n",
       "      <th>150</th>\n",
       "      <td>아이에스시가 국내 기업을 상대로 제기한 영업비밀침해 손해배상소송에서 승소했다.5일 ...</td>\n",
       "      <td>1</td>\n",
       "    </tr>\n",
       "    <tr>\n",
       "      <th>151</th>\n",
       "      <td>신종 코로나바이러스 감염증 공포로 가전양판점도 고객 불안을 해소하기 위해 위생에 만...</td>\n",
       "      <td>1</td>\n",
       "    </tr>\n",
       "    <tr>\n",
       "      <th>155</th>\n",
       "      <td>티몬이 코로나19 발생 이후 주요 간편식 판매 추이를 조사한 결과 밀키트의 매출이 ...</td>\n",
       "      <td>1</td>\n",
       "    </tr>\n",
       "    <tr>\n",
       "      <th>178</th>\n",
       "      <td>한국콘텐츠진흥원이 2020 게임이용자 임상의학 코호트 연구 위탁용역 사업을 위한 행...</td>\n",
       "      <td>1</td>\n",
       "    </tr>\n",
       "    <tr>\n",
       "      <th>181</th>\n",
       "      <td>배달의민족을 운영하는 우아한형제들은 코로나19 여파로 영업에 어려움을 겪고 있는 사...</td>\n",
       "      <td>2</td>\n",
       "    </tr>\n",
       "    <tr>\n",
       "      <th>184</th>\n",
       "      <td>네이버은 코로나19 장기화로 힘든 미용실네일샵 업종 사업자를 위해 연말까지 네이버페...</td>\n",
       "      <td>1</td>\n",
       "    </tr>\n",
       "    <tr>\n",
       "      <th>216</th>\n",
       "      <td>텐센트 동남아판 넷플릭스 아이플릭스 인수루머가 무성했던 텐센트의 아이플릭스 인수가 ...</td>\n",
       "      <td>1</td>\n",
       "    </tr>\n",
       "    <tr>\n",
       "      <th>217</th>\n",
       "      <td>아이에스시가 지난달 27일부터 29일까지 중국 상하이 신국제엑스포센터에서 열린 세미...</td>\n",
       "      <td>1</td>\n",
       "    </tr>\n",
       "  </tbody>\n",
       "</table>\n",
       "</div>"
      ],
      "text/plain": [
       "                                               content label\n",
       "4    Koreas venture space has been filled with vari...     2\n",
       "5    Samsung Electronics claims to have developed t...     2\n",
       "21   Daum Kakao  today introduced Secret Chat mode ...     2\n",
       "64   Tech for Korea has been on hiatus for half a y...     2\n",
       "66   신차구매 어플리케이션 서비스를 제공하고 있는 겟차에서 차량 구매 예정자의 고충을 해...     1\n",
       "74   In the Korean economy startups are rising as t...     2\n",
       "83   The exchange rates of cryptocurrencies like Bi...     2\n",
       "118  Fintech startup QARA  announced that its longa...     2\n",
       "136  Berlin December 13 2019  Today Delivery Hero S...     2\n",
       "144  삼성전자와 LG전자가 2020년형 에어컨 신제품을 연이어 공개하며 한겨울 에어컨 전...     2\n",
       "145  은행권청년창업재단 디캠프가 올해 첫 디데이를 홍콩투자청 홍콩경제무역대표부와 함께 개...     1\n",
       "146  한국사회에서 게임을 대하는 태도는 모순적이다. 수출 효자산업으로 각광받는 동시에 청...     1\n",
       "150  아이에스시가 국내 기업을 상대로 제기한 영업비밀침해 손해배상소송에서 승소했다.5일 ...     1\n",
       "151  신종 코로나바이러스 감염증 공포로 가전양판점도 고객 불안을 해소하기 위해 위생에 만...     1\n",
       "155  티몬이 코로나19 발생 이후 주요 간편식 판매 추이를 조사한 결과 밀키트의 매출이 ...     1\n",
       "178  한국콘텐츠진흥원이 2020 게임이용자 임상의학 코호트 연구 위탁용역 사업을 위한 행...     1\n",
       "181  배달의민족을 운영하는 우아한형제들은 코로나19 여파로 영업에 어려움을 겪고 있는 사...     2\n",
       "184  네이버은 코로나19 장기화로 힘든 미용실네일샵 업종 사업자를 위해 연말까지 네이버페...     1\n",
       "216  텐센트 동남아판 넷플릭스 아이플릭스 인수루머가 무성했던 텐센트의 아이플릭스 인수가 ...     1\n",
       "217  아이에스시가 지난달 27일부터 29일까지 중국 상하이 신국제엑스포센터에서 열린 세미...     1"
      ]
     },
     "execution_count": 21,
     "metadata": {},
     "output_type": "execute_result"
    }
   ],
   "source": [
    "df_news.head(20)"
   ]
  },
  {
   "cell_type": "markdown",
   "id": "4d078be6",
   "metadata": {},
   "source": [
    "#### 영어 제거"
   ]
  },
  {
   "cell_type": "code",
   "execution_count": 22,
   "id": "7f601efe",
   "metadata": {},
   "outputs": [],
   "source": [
    "reg = re.compile(r'[a-zA-Z]')"
   ]
  },
  {
   "cell_type": "code",
   "execution_count": 23,
   "id": "ac9f09d5",
   "metadata": {},
   "outputs": [],
   "source": [
    "def eng_check(text):\n",
    "    check = reg.match(text)\n",
    "    return check"
   ]
  },
  {
   "cell_type": "code",
   "execution_count": 24,
   "id": "ac9e619c",
   "metadata": {},
   "outputs": [],
   "source": [
    "df_news['eng_check'] = df_news.content.apply(eng_check)"
   ]
  },
  {
   "cell_type": "code",
   "execution_count": 25,
   "id": "277d3826",
   "metadata": {},
   "outputs": [],
   "source": [
    "df_news = df_news[df_news.eng_check.apply(lambda x: None == x)]"
   ]
  },
  {
   "cell_type": "code",
   "execution_count": 26,
   "id": "38557b1b",
   "metadata": {},
   "outputs": [
    {
     "data": {
      "text/html": [
       "<div>\n",
       "<style scoped>\n",
       "    .dataframe tbody tr th:only-of-type {\n",
       "        vertical-align: middle;\n",
       "    }\n",
       "\n",
       "    .dataframe tbody tr th {\n",
       "        vertical-align: top;\n",
       "    }\n",
       "\n",
       "    .dataframe thead th {\n",
       "        text-align: right;\n",
       "    }\n",
       "</style>\n",
       "<table border=\"1\" class=\"dataframe\">\n",
       "  <thead>\n",
       "    <tr style=\"text-align: right;\">\n",
       "      <th></th>\n",
       "      <th>content</th>\n",
       "      <th>label</th>\n",
       "      <th>eng_check</th>\n",
       "    </tr>\n",
       "  </thead>\n",
       "  <tbody>\n",
       "    <tr>\n",
       "      <th>66</th>\n",
       "      <td>신차구매 어플리케이션 서비스를 제공하고 있는 겟차에서 차량 구매 예정자의 고충을 해...</td>\n",
       "      <td>1</td>\n",
       "      <td>None</td>\n",
       "    </tr>\n",
       "    <tr>\n",
       "      <th>144</th>\n",
       "      <td>삼성전자와 LG전자가 2020년형 에어컨 신제품을 연이어 공개하며 한겨울 에어컨 전...</td>\n",
       "      <td>2</td>\n",
       "      <td>None</td>\n",
       "    </tr>\n",
       "    <tr>\n",
       "      <th>145</th>\n",
       "      <td>은행권청년창업재단 디캠프가 올해 첫 디데이를 홍콩투자청 홍콩경제무역대표부와 함께 개...</td>\n",
       "      <td>1</td>\n",
       "      <td>None</td>\n",
       "    </tr>\n",
       "    <tr>\n",
       "      <th>146</th>\n",
       "      <td>한국사회에서 게임을 대하는 태도는 모순적이다. 수출 효자산업으로 각광받는 동시에 청...</td>\n",
       "      <td>1</td>\n",
       "      <td>None</td>\n",
       "    </tr>\n",
       "    <tr>\n",
       "      <th>150</th>\n",
       "      <td>아이에스시가 국내 기업을 상대로 제기한 영업비밀침해 손해배상소송에서 승소했다.5일 ...</td>\n",
       "      <td>1</td>\n",
       "      <td>None</td>\n",
       "    </tr>\n",
       "  </tbody>\n",
       "</table>\n",
       "</div>"
      ],
      "text/plain": [
       "                                               content label eng_check\n",
       "66   신차구매 어플리케이션 서비스를 제공하고 있는 겟차에서 차량 구매 예정자의 고충을 해...     1      None\n",
       "144  삼성전자와 LG전자가 2020년형 에어컨 신제품을 연이어 공개하며 한겨울 에어컨 전...     2      None\n",
       "145  은행권청년창업재단 디캠프가 올해 첫 디데이를 홍콩투자청 홍콩경제무역대표부와 함께 개...     1      None\n",
       "146  한국사회에서 게임을 대하는 태도는 모순적이다. 수출 효자산업으로 각광받는 동시에 청...     1      None\n",
       "150  아이에스시가 국내 기업을 상대로 제기한 영업비밀침해 손해배상소송에서 승소했다.5일 ...     1      None"
      ]
     },
     "execution_count": 26,
     "metadata": {},
     "output_type": "execute_result"
    }
   ],
   "source": [
    "df_news.head()"
   ]
  },
  {
   "cell_type": "code",
   "execution_count": 27,
   "id": "135532d4",
   "metadata": {},
   "outputs": [],
   "source": [
    "df_news_1 = df_news[df_news.label.str.contains('1')]"
   ]
  },
  {
   "cell_type": "code",
   "execution_count": 28,
   "id": "25f28d7a",
   "metadata": {},
   "outputs": [],
   "source": [
    "df_news_1 = df_news_1[:1000]"
   ]
  },
  {
   "cell_type": "code",
   "execution_count": 29,
   "id": "50926217",
   "metadata": {},
   "outputs": [
    {
     "data": {
      "text/plain": [
       "(1000, 3)"
      ]
     },
     "execution_count": 29,
     "metadata": {},
     "output_type": "execute_result"
    }
   ],
   "source": [
    "df_news_1.shape"
   ]
  },
  {
   "cell_type": "code",
   "execution_count": 30,
   "id": "d1448b85",
   "metadata": {},
   "outputs": [],
   "source": [
    "df_news = df_news[df_news.label.str.contains('2')]"
   ]
  },
  {
   "cell_type": "code",
   "execution_count": 31,
   "id": "210b39c4",
   "metadata": {},
   "outputs": [],
   "source": [
    "df_news = pd.concat([df_news, df_news_1])"
   ]
  },
  {
   "cell_type": "code",
   "execution_count": 32,
   "id": "23144d8b",
   "metadata": {},
   "outputs": [],
   "source": [
    "df_news = df_news[['content', 'label']]"
   ]
  },
  {
   "cell_type": "code",
   "execution_count": 33,
   "id": "da1c7247",
   "metadata": {},
   "outputs": [
    {
     "data": {
      "text/plain": [
       "1    1000\n",
       "2     992\n",
       "Name: label, dtype: int64"
      ]
     },
     "execution_count": 33,
     "metadata": {},
     "output_type": "execute_result"
    }
   ],
   "source": [
    "df_news.label.value_counts()"
   ]
  },
  {
   "cell_type": "markdown",
   "id": "7467d302",
   "metadata": {},
   "source": [
    "### data merge"
   ]
  },
  {
   "cell_type": "code",
   "execution_count": 34,
   "id": "b9b2e19a",
   "metadata": {},
   "outputs": [],
   "source": [
    "df = pd.concat([df_aihub, df_news])"
   ]
  },
  {
   "cell_type": "code",
   "execution_count": 36,
   "id": "94166ec8",
   "metadata": {},
   "outputs": [
    {
     "ename": "TypeError",
     "evalue": "repl must be a string or callable",
     "output_type": "error",
     "traceback": [
      "\u001b[0;31m---------------------------------------------------------------------------\u001b[0m",
      "\u001b[0;31mTypeError\u001b[0m                                 Traceback (most recent call last)",
      "\u001b[0;32m/tmp/ipykernel_50687/797129259.py\u001b[0m in \u001b[0;36m<module>\u001b[0;34m\u001b[0m\n\u001b[0;32m----> 1\u001b[0;31m \u001b[0mdf\u001b[0m\u001b[0;34m[\u001b[0m\u001b[0;34m'label'\u001b[0m\u001b[0;34m]\u001b[0m \u001b[0;34m=\u001b[0m \u001b[0mdf\u001b[0m\u001b[0;34m.\u001b[0m\u001b[0mlabel\u001b[0m\u001b[0;34m.\u001b[0m\u001b[0mstr\u001b[0m\u001b[0;34m.\u001b[0m\u001b[0mreplace\u001b[0m\u001b[0;34m(\u001b[0m\u001b[0;34m'긍정'\u001b[0m\u001b[0;34m,\u001b[0m \u001b[0;36m1\u001b[0m\u001b[0;34m)\u001b[0m\u001b[0;34m\u001b[0m\u001b[0;34m\u001b[0m\u001b[0m\n\u001b[0m\u001b[1;32m      2\u001b[0m \u001b[0mdf\u001b[0m\u001b[0;34m[\u001b[0m\u001b[0;34m'label'\u001b[0m\u001b[0;34m]\u001b[0m \u001b[0;34m=\u001b[0m \u001b[0mdf\u001b[0m\u001b[0;34m.\u001b[0m\u001b[0mlabel\u001b[0m\u001b[0;34m.\u001b[0m\u001b[0mstr\u001b[0m\u001b[0;34m.\u001b[0m\u001b[0mreplace\u001b[0m\u001b[0;34m(\u001b[0m\u001b[0;34m'부정'\u001b[0m\u001b[0;34m,\u001b[0m \u001b[0;36m2\u001b[0m\u001b[0;34m)\u001b[0m\u001b[0;34m\u001b[0m\u001b[0;34m\u001b[0m\u001b[0m\n",
      "\u001b[0;32m/mnt/nas_storage3/shpark/.venv/lib/python3.8/site-packages/pandas/core/strings/accessor.py\u001b[0m in \u001b[0;36mwrapper\u001b[0;34m(self, *args, **kwargs)\u001b[0m\n\u001b[1;32m    114\u001b[0m                 )\n\u001b[1;32m    115\u001b[0m                 \u001b[0;32mraise\u001b[0m \u001b[0mTypeError\u001b[0m\u001b[0;34m(\u001b[0m\u001b[0mmsg\u001b[0m\u001b[0;34m)\u001b[0m\u001b[0;34m\u001b[0m\u001b[0;34m\u001b[0m\u001b[0m\n\u001b[0;32m--> 116\u001b[0;31m             \u001b[0;32mreturn\u001b[0m \u001b[0mfunc\u001b[0m\u001b[0;34m(\u001b[0m\u001b[0mself\u001b[0m\u001b[0;34m,\u001b[0m \u001b[0;34m*\u001b[0m\u001b[0margs\u001b[0m\u001b[0;34m,\u001b[0m \u001b[0;34m**\u001b[0m\u001b[0mkwargs\u001b[0m\u001b[0;34m)\u001b[0m\u001b[0;34m\u001b[0m\u001b[0;34m\u001b[0m\u001b[0m\n\u001b[0m\u001b[1;32m    117\u001b[0m \u001b[0;34m\u001b[0m\u001b[0m\n\u001b[1;32m    118\u001b[0m         \u001b[0mwrapper\u001b[0m\u001b[0;34m.\u001b[0m\u001b[0m__name__\u001b[0m \u001b[0;34m=\u001b[0m \u001b[0mfunc_name\u001b[0m\u001b[0;34m\u001b[0m\u001b[0;34m\u001b[0m\u001b[0m\n",
      "\u001b[0;32m/mnt/nas_storage3/shpark/.venv/lib/python3.8/site-packages/pandas/core/strings/accessor.py\u001b[0m in \u001b[0;36mreplace\u001b[0;34m(self, pat, repl, n, case, flags, regex)\u001b[0m\n\u001b[1;32m   1372\u001b[0m         \u001b[0;31m# Check whether repl is valid (GH 13438, GH 15055)\u001b[0m\u001b[0;34m\u001b[0m\u001b[0;34m\u001b[0m\u001b[0;34m\u001b[0m\u001b[0m\n\u001b[1;32m   1373\u001b[0m         \u001b[0;32mif\u001b[0m \u001b[0;32mnot\u001b[0m \u001b[0;34m(\u001b[0m\u001b[0misinstance\u001b[0m\u001b[0;34m(\u001b[0m\u001b[0mrepl\u001b[0m\u001b[0;34m,\u001b[0m \u001b[0mstr\u001b[0m\u001b[0;34m)\u001b[0m \u001b[0;32mor\u001b[0m \u001b[0mcallable\u001b[0m\u001b[0;34m(\u001b[0m\u001b[0mrepl\u001b[0m\u001b[0;34m)\u001b[0m\u001b[0;34m)\u001b[0m\u001b[0;34m:\u001b[0m\u001b[0;34m\u001b[0m\u001b[0;34m\u001b[0m\u001b[0m\n\u001b[0;32m-> 1374\u001b[0;31m             \u001b[0;32mraise\u001b[0m \u001b[0mTypeError\u001b[0m\u001b[0;34m(\u001b[0m\u001b[0;34m\"repl must be a string or callable\"\u001b[0m\u001b[0;34m)\u001b[0m\u001b[0;34m\u001b[0m\u001b[0;34m\u001b[0m\u001b[0m\n\u001b[0m\u001b[1;32m   1375\u001b[0m \u001b[0;34m\u001b[0m\u001b[0m\n\u001b[1;32m   1376\u001b[0m         \u001b[0mis_compiled_re\u001b[0m \u001b[0;34m=\u001b[0m \u001b[0mis_re\u001b[0m\u001b[0;34m(\u001b[0m\u001b[0mpat\u001b[0m\u001b[0;34m)\u001b[0m\u001b[0;34m\u001b[0m\u001b[0;34m\u001b[0m\u001b[0m\n",
      "\u001b[0;31mTypeError\u001b[0m: repl must be a string or callable"
     ]
    }
   ],
   "source": [
    "df['label'] = df.label.str.replace('긍정', '1')\n",
    "df['label'] = df.label.str.replace('부정', '2')"
   ]
  },
  {
   "cell_type": "code",
   "execution_count": 47,
   "id": "52da0788",
   "metadata": {},
   "outputs": [
    {
     "data": {
      "text/html": [
       "<div>\n",
       "<style scoped>\n",
       "    .dataframe tbody tr th:only-of-type {\n",
       "        vertical-align: middle;\n",
       "    }\n",
       "\n",
       "    .dataframe tbody tr th {\n",
       "        vertical-align: top;\n",
       "    }\n",
       "\n",
       "    .dataframe thead th {\n",
       "        text-align: right;\n",
       "    }\n",
       "</style>\n",
       "<table border=\"1\" class=\"dataframe\">\n",
       "  <thead>\n",
       "    <tr style=\"text-align: right;\">\n",
       "      <th></th>\n",
       "      <th>index</th>\n",
       "      <th>content</th>\n",
       "      <th>label</th>\n",
       "    </tr>\n",
       "  </thead>\n",
       "  <tbody>\n",
       "    <tr>\n",
       "      <th>0</th>\n",
       "      <td>0</td>\n",
       "      <td>오늘 반장 선거에서 내가 반장이 됐어 친구들이 날 믿어줘서 너무 고맙다 친구들에게 ...</td>\n",
       "      <td>[[1]]</td>\n",
       "    </tr>\n",
       "    <tr>\n",
       "      <th>1</th>\n",
       "      <td>1</td>\n",
       "      <td>오늘 시험에 친구가 알려준 문제가 나왔어 결과가 좋아서 기쁘다 말로 하기 쑥스러운데...</td>\n",
       "      <td>[[1]]</td>\n",
       "    </tr>\n",
       "    <tr>\n",
       "      <th>2</th>\n",
       "      <td>2</td>\n",
       "      <td>오늘 대학 합격 통지를 받았어 엄마가 너무 기뻐하는데 나는 눈물이 났어 사실 이렇게...</td>\n",
       "      <td>[[1]]</td>\n",
       "    </tr>\n",
       "    <tr>\n",
       "      <th>3</th>\n",
       "      <td>3</td>\n",
       "      <td>오늘 졸업식인데 선생님께서 아프셔서 오지 못하셨어 그동안 감사하다는 말도 못했는데 ...</td>\n",
       "      <td>[[1]]</td>\n",
       "    </tr>\n",
       "    <tr>\n",
       "      <th>4</th>\n",
       "      <td>4</td>\n",
       "      <td>나 올림피아드에서 금상 받았어 그동안 고생이 헛되지 않아서 너무 기뻐 근데 친구들이...</td>\n",
       "      <td>[[1]]</td>\n",
       "    </tr>\n",
       "  </tbody>\n",
       "</table>\n",
       "</div>"
      ],
      "text/plain": [
       "   index                                            content  label\n",
       "0      0  오늘 반장 선거에서 내가 반장이 됐어 친구들이 날 믿어줘서 너무 고맙다 친구들에게 ...  [[1]]\n",
       "1      1  오늘 시험에 친구가 알려준 문제가 나왔어 결과가 좋아서 기쁘다 말로 하기 쑥스러운데...  [[1]]\n",
       "2      2  오늘 대학 합격 통지를 받았어 엄마가 너무 기뻐하는데 나는 눈물이 났어 사실 이렇게...  [[1]]\n",
       "3      3  오늘 졸업식인데 선생님께서 아프셔서 오지 못하셨어 그동안 감사하다는 말도 못했는데 ...  [[1]]\n",
       "4      4  나 올림피아드에서 금상 받았어 그동안 고생이 헛되지 않아서 너무 기뻐 근데 친구들이...  [[1]]"
      ]
     },
     "execution_count": 47,
     "metadata": {},
     "output_type": "execute_result"
    }
   ],
   "source": [
    "df.head()"
   ]
  },
  {
   "cell_type": "markdown",
   "id": "ef5ab96c",
   "metadata": {},
   "source": [
    "### data processing"
   ]
  },
  {
   "cell_type": "code",
   "execution_count": 39,
   "id": "342604ae",
   "metadata": {},
   "outputs": [
    {
     "data": {
      "text/plain": [
       "(5362, 2)"
      ]
     },
     "execution_count": 39,
     "metadata": {},
     "output_type": "execute_result"
    }
   ],
   "source": [
    "df.shape"
   ]
  },
  {
   "cell_type": "code",
   "execution_count": 40,
   "id": "f338b02f",
   "metadata": {},
   "outputs": [],
   "source": [
    "df.dropna(inplace=True)"
   ]
  },
  {
   "cell_type": "code",
   "execution_count": 41,
   "id": "ee32ed59",
   "metadata": {},
   "outputs": [
    {
     "data": {
      "text/plain": [
       "(5362, 2)"
      ]
     },
     "execution_count": 41,
     "metadata": {},
     "output_type": "execute_result"
    }
   ],
   "source": [
    "df.shape"
   ]
  },
  {
   "cell_type": "code",
   "execution_count": 42,
   "id": "c4f08a06",
   "metadata": {},
   "outputs": [],
   "source": [
    "df.drop_duplicates(inplace=True)"
   ]
  },
  {
   "cell_type": "code",
   "execution_count": 43,
   "id": "ce6042f3",
   "metadata": {},
   "outputs": [],
   "source": [
    "df.reset_index(inplace=True)"
   ]
  },
  {
   "cell_type": "code",
   "execution_count": 44,
   "id": "b44ae9d3",
   "metadata": {},
   "outputs": [
    {
     "data": {
      "text/plain": [
       "[2]    1433\n",
       "[1]    1420\n",
       "1       999\n",
       "2       987\n",
       "Name: label, dtype: int64"
      ]
     },
     "execution_count": 44,
     "metadata": {},
     "output_type": "execute_result"
    }
   ],
   "source": [
    "df.label.value_counts()"
   ]
  },
  {
   "cell_type": "markdown",
   "id": "32cf21cb",
   "metadata": {},
   "source": [
    "# *👉🏻 data save* "
   ]
  },
  {
   "cell_type": "code",
   "execution_count": 45,
   "id": "a89fb839",
   "metadata": {},
   "outputs": [
    {
     "name": "stdout",
     "output_type": "stream",
     "text": [
      "Saved 4839 records\n"
     ]
    }
   ],
   "source": [
    "fm.save(config.save_data, df)"
   ]
  },
  {
   "cell_type": "code",
   "execution_count": null,
   "id": "9ee66638",
   "metadata": {},
   "outputs": [],
   "source": []
  }
 ],
 "metadata": {
  "kernelspec": {
   "display_name": "Python 3",
   "language": "python",
   "name": "python3"
  },
  "language_info": {
   "codemirror_mode": {
    "name": "ipython",
    "version": 3
   },
   "file_extension": ".py",
   "mimetype": "text/x-python",
   "name": "python",
   "nbconvert_exporter": "python",
   "pygments_lexer": "ipython3",
   "version": "3.8.10"
  }
 },
 "nbformat": 4,
 "nbformat_minor": 5
}
