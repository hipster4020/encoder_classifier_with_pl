{
 "cells": [
  {
   "cell_type": "markdown",
   "id": "0c47622b",
   "metadata": {},
   "source": [
    "# *data load*"
   ]
  },
  {
   "cell_type": "code",
   "execution_count": 1,
   "id": "3ab1d43d",
   "metadata": {},
   "outputs": [],
   "source": [
    "import pandas as pd\n",
    "from pshmodule.utils import filemanager as fm"
   ]
  },
  {
   "cell_type": "code",
   "execution_count": 2,
   "id": "8f0e848c",
   "metadata": {},
   "outputs": [
    {
     "name": "stdout",
     "output_type": "stream",
     "text": [
      "extension : .json\n",
      "Loaded 35132 records from /home/shpark/team_ai/news_category/data/git_category.json\n"
     ]
    }
   ],
   "source": [
    "df = fm.load('/home/shpark/team_ai/news_category/data/git_category.json')"
   ]
  },
  {
   "cell_type": "code",
   "execution_count": 3,
   "id": "40367731",
   "metadata": {},
   "outputs": [
    {
     "data": {
      "text/html": [
       "<div>\n",
       "<style scoped>\n",
       "    .dataframe tbody tr th:only-of-type {\n",
       "        vertical-align: middle;\n",
       "    }\n",
       "\n",
       "    .dataframe tbody tr th {\n",
       "        vertical-align: top;\n",
       "    }\n",
       "\n",
       "    .dataframe thead th {\n",
       "        text-align: right;\n",
       "    }\n",
       "</style>\n",
       "<table border=\"1\" class=\"dataframe\">\n",
       "  <thead>\n",
       "    <tr style=\"text-align: right;\">\n",
       "      <th></th>\n",
       "      <th>content</th>\n",
       "      <th>label</th>\n",
       "    </tr>\n",
       "  </thead>\n",
       "  <tbody>\n",
       "    <tr>\n",
       "      <th>0</th>\n",
       "      <td>열과 전기가 잘 통해 산업계의 금으로 불리는 희귀 광물인 희토류영구자석 형태로 전기...</td>\n",
       "      <td>[11, 3]</td>\n",
       "    </tr>\n",
       "    <tr>\n",
       "      <th>1</th>\n",
       "      <td>최근 열린 미국의회 청문회에서 몇몇 앱개발사가 애플과 구글은 플랫폼 영향력 측면에서...</td>\n",
       "      <td>[9, 23]</td>\n",
       "    </tr>\n",
       "    <tr>\n",
       "      <th>2</th>\n",
       "      <td>비트코인 등 암호화폐 시장이 급락하면서 투자자들이 패닉 상태에 빠졌다 국내 주요 암...</td>\n",
       "      <td>[23, 13, 5]</td>\n",
       "    </tr>\n",
       "    <tr>\n",
       "      <th>3</th>\n",
       "      <td>웰컴저축은행은 꿈테크 프로젝트 런포드림 영상이 세계 대 국제 광고제인 클리오 어워즈...</td>\n",
       "      <td>[17]</td>\n",
       "    </tr>\n",
       "    <tr>\n",
       "      <th>4</th>\n",
       "      <td>카카오게임즈와 님블뉴런이 함께 서비스하는 PC 생존게임 영원회귀 블랙서바이벌의 시즌...</td>\n",
       "      <td>[9, 22]</td>\n",
       "    </tr>\n",
       "  </tbody>\n",
       "</table>\n",
       "</div>"
      ],
      "text/plain": [
       "                                             content        label\n",
       "0  열과 전기가 잘 통해 산업계의 금으로 불리는 희귀 광물인 희토류영구자석 형태로 전기...      [11, 3]\n",
       "1  최근 열린 미국의회 청문회에서 몇몇 앱개발사가 애플과 구글은 플랫폼 영향력 측면에서...      [9, 23]\n",
       "2  비트코인 등 암호화폐 시장이 급락하면서 투자자들이 패닉 상태에 빠졌다 국내 주요 암...  [23, 13, 5]\n",
       "3  웰컴저축은행은 꿈테크 프로젝트 런포드림 영상이 세계 대 국제 광고제인 클리오 어워즈...         [17]\n",
       "4  카카오게임즈와 님블뉴런이 함께 서비스하는 PC 생존게임 영원회귀 블랙서바이벌의 시즌...      [9, 22]"
      ]
     },
     "execution_count": 3,
     "metadata": {},
     "output_type": "execute_result"
    }
   ],
   "source": [
    "df.head()"
   ]
  },
  {
   "cell_type": "markdown",
   "id": "45ee111a",
   "metadata": {},
   "source": [
    "# *data check*"
   ]
  },
  {
   "cell_type": "code",
   "execution_count": 4,
   "id": "397def5a",
   "metadata": {},
   "outputs": [],
   "source": [
    "labels = {0 : '인공지능',\n",
    "          1 : '로봇',\n",
    "          2 : '스마트팜',\n",
    "          3 : '에너지',\n",
    "          4 : '서버',\n",
    "          5 : '투자',\n",
    "          6 : '정부지원',\n",
    "          7 : '증강현실',\n",
    "          8 : '이동수단',\n",
    "          9 : '개발',\n",
    "          10 : '통신',\n",
    "          11 : '과학',\n",
    "          12 : '드론',\n",
    "          13 : '블록체인',\n",
    "          14 : '핀테크',\n",
    "          15 : '커머스',\n",
    "          16 : '여행',\n",
    "          17 : '미디어',\n",
    "          18 : '헬스케어',\n",
    "          19 : '의약',\n",
    "          20 : '식품',\n",
    "          21 : '교육',\n",
    "          22 : '직업',\n",
    "          23 : '경제',\n",
    "          24 : '광고',\n",
    "          25 : '제약',\n",
    "          26 : 'O2O',\n",
    "          27 : '뷰티',\n",
    "          28 : '부동산',\n",
    "          29 : 'etc'}"
   ]
  },
  {
   "cell_type": "code",
   "execution_count": 5,
   "id": "22923ead",
   "metadata": {},
   "outputs": [
    {
     "name": "stdout",
     "output_type": "stream",
     "text": [
      "인공지능 : 356\n",
      "로봇 : 919\n",
      "스마트팜 : 360\n",
      "에너지 : 4568\n",
      "서버 : 484\n",
      "투자 : 9356\n",
      "정부지원 : 4714\n",
      "증강현실 : 194\n",
      "이동수단 : 1002\n",
      "개발 : 4274\n",
      "통신 : 1818\n",
      "과학 : 568\n",
      "드론 : 272\n",
      "블록체인 : 1200\n",
      "핀테크 : 832\n",
      "커머스 : 2551\n",
      "여행 : 574\n",
      "미디어 : 1865\n",
      "헬스케어 : 1528\n",
      "의약 : 2676\n",
      "식품 : 874\n",
      "교육 : 2014\n",
      "직업 : 1647\n",
      "경제 : 8353\n",
      "광고 : 1582\n",
      "제약 : 2693\n",
      "O2O : 935\n",
      "뷰티 : 252\n",
      "부동산 : 2893\n",
      "etc : 2511\n"
     ]
    }
   ],
   "source": [
    "# 건수 체크\n",
    "grp_list = sum(df.label.tolist(), [])\n",
    "\n",
    "for k, v in labels.items(): \n",
    "    a = grp_list.count(k)\n",
    "    \n",
    "    tot = v + \" : \" + str(a)\n",
    "    print(tot)"
   ]
  },
  {
   "cell_type": "markdown",
   "id": "3f697686",
   "metadata": {},
   "source": [
    "# *data undersampling*"
   ]
  },
  {
   "cell_type": "code",
   "execution_count": 6,
   "id": "c71f752a",
   "metadata": {},
   "outputs": [
    {
     "data": {
      "text/plain": [
       "(35132, 2)"
      ]
     },
     "execution_count": 6,
     "metadata": {},
     "output_type": "execute_result"
    }
   ],
   "source": [
    "df.shape"
   ]
  },
  {
   "cell_type": "code",
   "execution_count": 7,
   "id": "87e12970",
   "metadata": {},
   "outputs": [
    {
     "name": "stdout",
     "output_type": "stream",
     "text": [
      "인공지능 : 356\n",
      "로봇 : 919\n",
      "스마트팜 : 360\n",
      "에너지 : 4568\n",
      "서버 : 484\n",
      "투자 : 9356\n",
      "정부지원 : 4714\n",
      "증강현실 : 194\n",
      "이동수단 : 1002\n",
      "개발 : 4274\n",
      "통신 : 1818\n",
      "과학 : 568\n",
      "드론 : 272\n",
      "블록체인 : 1200\n",
      "핀테크 : 832\n",
      "커머스 : 2551\n",
      "여행 : 574\n",
      "미디어 : 1865\n",
      "헬스케어 : 1528\n",
      "의약 : 2676\n",
      "식품 : 874\n",
      "교육 : 2014\n",
      "직업 : 1647\n",
      "경제 : 8353\n",
      "광고 : 1582\n",
      "제약 : 2693\n",
      "O2O : 935\n",
      "뷰티 : 252\n",
      "부동산 : 2893\n",
      "etc : 2511\n"
     ]
    }
   ],
   "source": [
    "# 건수 체크\n",
    "grp_list = sum(df.label.tolist(), [])\n",
    "\n",
    "for k, v in labels.items(): \n",
    "    a = grp_list.count(k)\n",
    "    \n",
    "    tot = v + \" : \" + str(a)\n",
    "    print(tot)"
   ]
  },
  {
   "cell_type": "markdown",
   "id": "03715019",
   "metadata": {},
   "source": [
    "#### 에너지"
   ]
  },
  {
   "cell_type": "code",
   "execution_count": 8,
   "id": "898096b4",
   "metadata": {},
   "outputs": [],
   "source": [
    "df_energy = df[df.label.apply(lambda x: 3 in x)]"
   ]
  },
  {
   "cell_type": "code",
   "execution_count": 9,
   "id": "7bafcce0",
   "metadata": {},
   "outputs": [],
   "source": [
    "df_energy = df_energy.sample(frac=1).reset_index(drop=True)  # shuffling하고 index reset"
   ]
  },
  {
   "cell_type": "code",
   "execution_count": 10,
   "id": "e37e0009",
   "metadata": {},
   "outputs": [],
   "source": [
    "df_energy = df_energy[:2000]"
   ]
  },
  {
   "cell_type": "code",
   "execution_count": 11,
   "id": "18e52e3f",
   "metadata": {},
   "outputs": [],
   "source": [
    "df = df[~df.label.apply(lambda x: 3 in x)]"
   ]
  },
  {
   "cell_type": "markdown",
   "id": "8f5db182",
   "metadata": {},
   "source": [
    "#### 투자"
   ]
  },
  {
   "cell_type": "code",
   "execution_count": 12,
   "id": "9d416d4c",
   "metadata": {},
   "outputs": [],
   "source": [
    "df_invest = df[df.label.apply(lambda x: 5 in x)]"
   ]
  },
  {
   "cell_type": "code",
   "execution_count": 13,
   "id": "592ccaad",
   "metadata": {},
   "outputs": [],
   "source": [
    "df_invest = df_invest.sample(frac=1).reset_index(drop=True)  # shuffling하고 index reset"
   ]
  },
  {
   "cell_type": "code",
   "execution_count": 14,
   "id": "51dd8299",
   "metadata": {},
   "outputs": [],
   "source": [
    "df_invest = df_invest[:2000]"
   ]
  },
  {
   "cell_type": "code",
   "execution_count": 15,
   "id": "9397495a",
   "metadata": {},
   "outputs": [],
   "source": [
    "df = df[~df.label.apply(lambda x: 5 in x)]"
   ]
  },
  {
   "cell_type": "markdown",
   "id": "23b4e6f5",
   "metadata": {},
   "source": [
    "#### 정부지원"
   ]
  },
  {
   "cell_type": "code",
   "execution_count": 16,
   "id": "21f635dc",
   "metadata": {},
   "outputs": [],
   "source": [
    "df_government = df[df.label.apply(lambda x: 6 in x)]"
   ]
  },
  {
   "cell_type": "code",
   "execution_count": 17,
   "id": "6e90a823",
   "metadata": {},
   "outputs": [],
   "source": [
    "df_government = df_government.sample(frac=1).reset_index(drop=True)  # shuffling하고 index reset"
   ]
  },
  {
   "cell_type": "code",
   "execution_count": 18,
   "id": "9d6caba9",
   "metadata": {},
   "outputs": [],
   "source": [
    "df_government = df_government[:2000]"
   ]
  },
  {
   "cell_type": "code",
   "execution_count": 19,
   "id": "19565077",
   "metadata": {},
   "outputs": [],
   "source": [
    "df = df[~df.label.apply(lambda x: 6 in x)]"
   ]
  },
  {
   "cell_type": "markdown",
   "id": "f0464b6e",
   "metadata": {},
   "source": [
    "#### 개발"
   ]
  },
  {
   "cell_type": "code",
   "execution_count": 20,
   "id": "c67b15bc",
   "metadata": {},
   "outputs": [],
   "source": [
    "df_development = df[df.label.apply(lambda x: 9 in x)]"
   ]
  },
  {
   "cell_type": "code",
   "execution_count": 21,
   "id": "09035e6f",
   "metadata": {},
   "outputs": [],
   "source": [
    "df_development = df_development.sample(frac=1).reset_index(drop=True)  # shuffling하고 index reset"
   ]
  },
  {
   "cell_type": "code",
   "execution_count": 22,
   "id": "7e9cf161",
   "metadata": {},
   "outputs": [],
   "source": [
    "df_development = df_development[:2000]"
   ]
  },
  {
   "cell_type": "code",
   "execution_count": 23,
   "id": "f0e34ae4",
   "metadata": {},
   "outputs": [],
   "source": [
    "df = df[~df.label.apply(lambda x: 9 in x)]"
   ]
  },
  {
   "cell_type": "markdown",
   "id": "df0ba470",
   "metadata": {},
   "source": [
    "#### 경제"
   ]
  },
  {
   "cell_type": "code",
   "execution_count": 24,
   "id": "412a5cc1",
   "metadata": {},
   "outputs": [],
   "source": [
    "df_economy = df[df.label.apply(lambda x: 23 in x)]"
   ]
  },
  {
   "cell_type": "code",
   "execution_count": 25,
   "id": "4d57f219",
   "metadata": {},
   "outputs": [],
   "source": [
    "df_economy = df_economy.sample(frac=1).reset_index(drop=True)  # shuffling하고 index reset"
   ]
  },
  {
   "cell_type": "code",
   "execution_count": 26,
   "id": "6a8882c6",
   "metadata": {},
   "outputs": [],
   "source": [
    "df_economy = df_economy[:2000]"
   ]
  },
  {
   "cell_type": "code",
   "execution_count": 27,
   "id": "a320ccf9",
   "metadata": {},
   "outputs": [],
   "source": [
    "df = df[~df.label.apply(lambda x: 23 in x)]"
   ]
  },
  {
   "cell_type": "markdown",
   "id": "86eddf49",
   "metadata": {},
   "source": [
    "#### concat"
   ]
  },
  {
   "cell_type": "code",
   "execution_count": 28,
   "id": "4eebeb59",
   "metadata": {},
   "outputs": [],
   "source": [
    "df = pd.concat([df, df_energy, df_invest, df_government, df_development, df_economy])"
   ]
  },
  {
   "cell_type": "code",
   "execution_count": 29,
   "id": "fd371615",
   "metadata": {},
   "outputs": [],
   "source": [
    "df = df.sample(frac=1).reset_index(drop=True)  # shuffling하고 index reset"
   ]
  },
  {
   "cell_type": "markdown",
   "id": "72f6f5d8",
   "metadata": {},
   "source": [
    "### data check"
   ]
  },
  {
   "cell_type": "code",
   "execution_count": 30,
   "id": "d47f1c95",
   "metadata": {},
   "outputs": [
    {
     "name": "stdout",
     "output_type": "stream",
     "text": [
      "인공지능 : 312\n",
      "로봇 : 732\n",
      "스마트팜 : 259\n",
      "에너지 : 2000\n",
      "서버 : 338\n",
      "투자 : 2782\n",
      "정부지원 : 2826\n",
      "증강현실 : 158\n",
      "이동수단 : 854\n",
      "개발 : 2501\n",
      "통신 : 1227\n",
      "과학 : 352\n",
      "드론 : 224\n",
      "블록체인 : 747\n",
      "핀테크 : 584\n",
      "커머스 : 1899\n",
      "여행 : 467\n",
      "미디어 : 1218\n",
      "헬스케어 : 1469\n",
      "의약 : 2488\n",
      "식품 : 760\n",
      "교육 : 1507\n",
      "직업 : 1091\n",
      "경제 : 3513\n",
      "광고 : 1476\n",
      "제약 : 1908\n",
      "O2O : 750\n",
      "뷰티 : 209\n",
      "부동산 : 2540\n",
      "etc : 2510\n"
     ]
    }
   ],
   "source": [
    "grp_list = sum(df.label.tolist(), [])\n",
    "\n",
    "for k, v in labels.items(): \n",
    "    a = grp_list.count(k)\n",
    "    \n",
    "    tot = v + \" : \" + str(a)\n",
    "    print(tot)"
   ]
  },
  {
   "cell_type": "markdown",
   "id": "0e67606b",
   "metadata": {},
   "source": [
    "# *data save*"
   ]
  },
  {
   "cell_type": "code",
   "execution_count": 31,
   "id": "efb66392",
   "metadata": {},
   "outputs": [
    {
     "name": "stdout",
     "output_type": "stream",
     "text": [
      "Saved 23936 records\n"
     ]
    }
   ],
   "source": [
    "fm.save('/home/shpark/team_ai/news_category_pytorch/data/git_category.json', df)"
   ]
  }
 ],
 "metadata": {
  "kernelspec": {
   "display_name": "Python 3",
   "language": "python",
   "name": "python3"
  },
  "language_info": {
   "codemirror_mode": {
    "name": "ipython",
    "version": 3
   },
   "file_extension": ".py",
   "mimetype": "text/x-python",
   "name": "python",
   "nbconvert_exporter": "python",
   "pygments_lexer": "ipython3",
   "version": "3.8.10"
  }
 },
 "nbformat": 4,
 "nbformat_minor": 5
}
