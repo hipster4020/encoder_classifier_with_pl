{
 "cells": [
  {
   "cell_type": "markdown",
   "id": "3e774971-7968-4df1-b8b9-7a163775ad64",
   "metadata": {},
   "source": [
    "# *db load*"
   ]
  },
  {
   "cell_type": "code",
   "execution_count": 1,
   "id": "446ff5ed-515f-41b7-b383-6fac7644727d",
   "metadata": {},
   "outputs": [],
   "source": [
    "import swifter\n",
    "import config \n",
    "from pshmodule.db import alchemy\n",
    "from pshmodule.utils import filemanager as fm\n",
    "from pshmodule.processing import processing as p"
   ]
  },
  {
   "cell_type": "code",
   "execution_count": 2,
   "id": "5f0a7ea1-a2b0-4e96-b6d1-253ecd18fb35",
   "metadata": {},
   "outputs": [
    {
     "name": "stdout",
     "output_type": "stream",
     "text": [
      "excute start\n",
      "df's length : 2000\n",
      "excute end\n",
      "------------------------------------------------------------------------------------------------------------------------------------------------------------------------------------------\n"
     ]
    }
   ],
   "source": [
    "df = alchemy.DataSource(\n",
    "    config.db_info, config.db\n",
    ").select_query_to_df(\n",
    "    \"select title, content, portal from indexing_news where content is not null and portal not in ('naver', 'daum') order by create_date desc limit 2000\"\n",
    ")"
   ]
  },
  {
   "cell_type": "code",
   "execution_count": 3,
   "id": "56268eb8-661d-4684-8c7f-bf2f89388eef",
   "metadata": {},
   "outputs": [
    {
     "name": "stdout",
     "output_type": "stream",
     "text": [
      "                                    title  \\\n",
      "0  [9월 11일 스타트업 비즈니스 동향]비긴메이트, 다방, 모두싸인 등   \n",
      "1                [시론] 4차 산업혁명 이끄는 英 왕립예술대   \n",
      "2          EV스타트업 루시드,니콜라 신주발행으로 자금 조달 추진   \n",
      "3          위더스파트너스, 홀썸브랜드에 200억원 벤처 대출 진행   \n",
      "4                     [로터리]청와대를 시각문화예술단지로   \n",
      "\n",
      "                                             content                portal  \n",
      "0  서울창업허브와 비긴메이트, 스타트업 디자이너들을 위한 세미나 개최서울창업허브와 스타...  platum search : 태광뉴텍  \n",
      "1  학문·기업 장벽 허물어 인재 육성한국 대학은 '청년실업자 양성소'현장 요구와 동떨어...  naver startup search  \n",
      "2  전기트럭 등 생산 확대와 배터리업체 인수 자금으로현금 충분한 루시드는 필요시 신주 ...  naver startup search  \n",
      "3  위더스파트너스(대표 스티브변)가 지난 24일 ‘홀썸브랜드(이하 홀썸)’에게 200억...  naver startup search  \n",
      "4  정준모 한국미술품감정연구센터 대표정준모 한국미술품감정연구센터 대표[서울경제]세상은 ...  naver startup search  \n"
     ]
    }
   ],
   "source": [
    "print(df.head())"
   ]
  },
  {
   "cell_type": "markdown",
   "id": "be4bac80-aa45-4a75-9d3f-77af64781ad1",
   "metadata": {},
   "source": [
    "# *processing*"
   ]
  },
  {
   "cell_type": "code",
   "execution_count": 4,
   "id": "c835930d-32ed-4a98-883d-925546fcd3b1",
   "metadata": {},
   "outputs": [],
   "source": [
    "df['context'] = df.title + \" \" + df.content"
   ]
  },
  {
   "cell_type": "code",
   "execution_count": 5,
   "id": "c09c1c29-be5f-410c-8beb-3bab1c1ab84f",
   "metadata": {},
   "outputs": [
    {
     "data": {
      "application/vnd.jupyter.widget-view+json": {
       "model_id": "de4dded85c3f4664b87050748da02d25",
       "version_major": 2,
       "version_minor": 0
      },
      "text/plain": [
       "Pandas Apply:   0%|          | 0/2000 [00:00<?, ?it/s]"
      ]
     },
     "metadata": {},
     "output_type": "display_data"
    }
   ],
   "source": [
    "df['p_context'] = df.context.swifter.apply(p.news_preprocessing)"
   ]
  },
  {
   "cell_type": "code",
   "execution_count": 6,
   "id": "bf95ab18-bf56-47ad-9efb-d408563e7d59",
   "metadata": {},
   "outputs": [
    {
     "data": {
      "text/html": [
       "<div>\n",
       "<style scoped>\n",
       "    .dataframe tbody tr th:only-of-type {\n",
       "        vertical-align: middle;\n",
       "    }\n",
       "\n",
       "    .dataframe tbody tr th {\n",
       "        vertical-align: top;\n",
       "    }\n",
       "\n",
       "    .dataframe thead th {\n",
       "        text-align: right;\n",
       "    }\n",
       "</style>\n",
       "<table border=\"1\" class=\"dataframe\">\n",
       "  <thead>\n",
       "    <tr style=\"text-align: right;\">\n",
       "      <th></th>\n",
       "      <th>title</th>\n",
       "      <th>content</th>\n",
       "      <th>portal</th>\n",
       "      <th>context</th>\n",
       "      <th>p_context</th>\n",
       "    </tr>\n",
       "  </thead>\n",
       "  <tbody>\n",
       "    <tr>\n",
       "      <th>0</th>\n",
       "      <td>[9월 11일 스타트업 비즈니스 동향]비긴메이트, 다방, 모두싸인 등</td>\n",
       "      <td>서울창업허브와 비긴메이트, 스타트업 디자이너들을 위한 세미나 개최서울창업허브와 스타...</td>\n",
       "      <td>platum search : 태광뉴텍</td>\n",
       "      <td>[9월 11일 스타트업 비즈니스 동향]비긴메이트, 다방, 모두싸인 등 서울창업허브와...</td>\n",
       "      <td>비긴메이트 다방 모두싸인 등 서울창업허브와 비긴메이트 스타트업 디자이너들을 위한 세...</td>\n",
       "    </tr>\n",
       "    <tr>\n",
       "      <th>1</th>\n",
       "      <td>[시론] 4차 산업혁명 이끄는 英 왕립예술대</td>\n",
       "      <td>학문·기업 장벽 허물어 인재 육성한국 대학은 '청년실업자 양성소'현장 요구와 동떨어...</td>\n",
       "      <td>naver startup search</td>\n",
       "      <td>[시론] 4차 산업혁명 이끄는 英 왕립예술대 학문·기업 장벽 허물어 인재 육성한국 ...</td>\n",
       "      <td>4차 산업혁명 이끄는  왕립예술대 학문기업 장벽 허물어 인재 육성한국 대학은 청년실...</td>\n",
       "    </tr>\n",
       "    <tr>\n",
       "      <th>2</th>\n",
       "      <td>EV스타트업 루시드,니콜라 신주발행으로 자금 조달 추진</td>\n",
       "      <td>전기트럭 등 생산 확대와 배터리업체 인수 자금으로현금 충분한 루시드는 필요시 신주 ...</td>\n",
       "      <td>naver startup search</td>\n",
       "      <td>EV스타트업 루시드,니콜라 신주발행으로 자금 조달 추진 전기트럭 등 생산 확대와 배...</td>\n",
       "      <td>EV스타트업 루시드니콜라 신주발행으로 자금 조달 추진 전기트럭 등 생산 확대와 배터...</td>\n",
       "    </tr>\n",
       "    <tr>\n",
       "      <th>3</th>\n",
       "      <td>위더스파트너스, 홀썸브랜드에 200억원 벤처 대출 진행</td>\n",
       "      <td>위더스파트너스(대표 스티브변)가 지난 24일 ‘홀썸브랜드(이하 홀썸)’에게 200억...</td>\n",
       "      <td>naver startup search</td>\n",
       "      <td>위더스파트너스, 홀썸브랜드에 200억원 벤처 대출 진행 위더스파트너스(대표 스티브변...</td>\n",
       "      <td>위더스파트너스 홀썸브랜드에 200억원 벤처 대출 진행 위더스파트너스가 지난 24일 ...</td>\n",
       "    </tr>\n",
       "    <tr>\n",
       "      <th>4</th>\n",
       "      <td>[로터리]청와대를 시각문화예술단지로</td>\n",
       "      <td>정준모 한국미술품감정연구센터 대표정준모 한국미술품감정연구센터 대표[서울경제]세상은 ...</td>\n",
       "      <td>naver startup search</td>\n",
       "      <td>[로터리]청와대를 시각문화예술단지로 정준모 한국미술품감정연구센터 대표정준모 한국미술...</td>\n",
       "      <td>세상은 넓고 할 일도 많지만 갈 곳도 많다  관광객 폭증으로 오버투어리즘에 대한 대...</td>\n",
       "    </tr>\n",
       "  </tbody>\n",
       "</table>\n",
       "</div>"
      ],
      "text/plain": [
       "                                    title  \\\n",
       "0  [9월 11일 스타트업 비즈니스 동향]비긴메이트, 다방, 모두싸인 등   \n",
       "1                [시론] 4차 산업혁명 이끄는 英 왕립예술대   \n",
       "2          EV스타트업 루시드,니콜라 신주발행으로 자금 조달 추진   \n",
       "3          위더스파트너스, 홀썸브랜드에 200억원 벤처 대출 진행   \n",
       "4                     [로터리]청와대를 시각문화예술단지로   \n",
       "\n",
       "                                             content                portal  \\\n",
       "0  서울창업허브와 비긴메이트, 스타트업 디자이너들을 위한 세미나 개최서울창업허브와 스타...  platum search : 태광뉴텍   \n",
       "1  학문·기업 장벽 허물어 인재 육성한국 대학은 '청년실업자 양성소'현장 요구와 동떨어...  naver startup search   \n",
       "2  전기트럭 등 생산 확대와 배터리업체 인수 자금으로현금 충분한 루시드는 필요시 신주 ...  naver startup search   \n",
       "3  위더스파트너스(대표 스티브변)가 지난 24일 ‘홀썸브랜드(이하 홀썸)’에게 200억...  naver startup search   \n",
       "4  정준모 한국미술품감정연구센터 대표정준모 한국미술품감정연구센터 대표[서울경제]세상은 ...  naver startup search   \n",
       "\n",
       "                                             context  \\\n",
       "0  [9월 11일 스타트업 비즈니스 동향]비긴메이트, 다방, 모두싸인 등 서울창업허브와...   \n",
       "1  [시론] 4차 산업혁명 이끄는 英 왕립예술대 학문·기업 장벽 허물어 인재 육성한국 ...   \n",
       "2  EV스타트업 루시드,니콜라 신주발행으로 자금 조달 추진 전기트럭 등 생산 확대와 배...   \n",
       "3  위더스파트너스, 홀썸브랜드에 200억원 벤처 대출 진행 위더스파트너스(대표 스티브변...   \n",
       "4  [로터리]청와대를 시각문화예술단지로 정준모 한국미술품감정연구센터 대표정준모 한국미술...   \n",
       "\n",
       "                                           p_context  \n",
       "0  비긴메이트 다방 모두싸인 등 서울창업허브와 비긴메이트 스타트업 디자이너들을 위한 세...  \n",
       "1  4차 산업혁명 이끄는  왕립예술대 학문기업 장벽 허물어 인재 육성한국 대학은 청년실...  \n",
       "2  EV스타트업 루시드니콜라 신주발행으로 자금 조달 추진 전기트럭 등 생산 확대와 배터...  \n",
       "3  위더스파트너스 홀썸브랜드에 200억원 벤처 대출 진행 위더스파트너스가 지난 24일 ...  \n",
       "4  세상은 넓고 할 일도 많지만 갈 곳도 많다  관광객 폭증으로 오버투어리즘에 대한 대...  "
      ]
     },
     "execution_count": 6,
     "metadata": {},
     "output_type": "execute_result"
    }
   ],
   "source": [
    "df.head()"
   ]
  },
  {
   "cell_type": "code",
   "execution_count": 7,
   "id": "bcf73ee7-314d-4aa9-b5a0-76a6fc385861",
   "metadata": {},
   "outputs": [],
   "source": [
    "df = df[['p_context']]"
   ]
  },
  {
   "cell_type": "code",
   "execution_count": 8,
   "id": "7aa97589-7fc1-4fa0-9ef5-4a9ff6ea6205",
   "metadata": {},
   "outputs": [],
   "source": [
    "df.rename(columns={'p_context':'content'}, inplace=True)"
   ]
  },
  {
   "cell_type": "code",
   "execution_count": 9,
   "id": "e67e27bc-7705-48c4-a6f1-df198b258e3b",
   "metadata": {},
   "outputs": [],
   "source": [
    "df.drop_duplicates(inplace=True)"
   ]
  },
  {
   "cell_type": "code",
   "execution_count": 10,
   "id": "8d34213e-b0ab-40da-bc8d-9db56166f367",
   "metadata": {},
   "outputs": [],
   "source": [
    "df.dropna(inplace=True)"
   ]
  },
  {
   "cell_type": "markdown",
   "id": "5e877cc9-1eca-4682-88e1-041d884e2d5a",
   "metadata": {},
   "source": [
    "# *data save*"
   ]
  },
  {
   "cell_type": "code",
   "execution_count": 11,
   "id": "5801c51c-7d41-4b54-ba99-f638865a3026",
   "metadata": {},
   "outputs": [
    {
     "data": {
      "text/plain": [
       "(1987, 1)"
      ]
     },
     "execution_count": 11,
     "metadata": {},
     "output_type": "execute_result"
    }
   ],
   "source": [
    "df.shape"
   ]
  },
  {
   "cell_type": "code",
   "execution_count": 12,
   "id": "7e4c1abd-34eb-4ccf-9ba0-96df9de40858",
   "metadata": {},
   "outputs": [
    {
     "name": "stdout",
     "output_type": "stream",
     "text": [
      "Saved 1987 records\n"
     ]
    }
   ],
   "source": [
    "fm.save('/home/jovyan/shpark-datashare/news_category/data/git_category_unlabeled.xlsx', df)"
   ]
  },
  {
   "cell_type": "code",
   "execution_count": null,
   "id": "b737e06a-ea95-454b-ba4a-6c1fe43f27f4",
   "metadata": {},
   "outputs": [],
   "source": []
  }
 ],
 "metadata": {
  "kernelspec": {
   "display_name": "Python 3",
   "language": "python",
   "name": "python3"
  },
  "language_info": {
   "codemirror_mode": {
    "name": "ipython",
    "version": 3
   },
   "file_extension": ".py",
   "mimetype": "text/x-python",
   "name": "python",
   "nbconvert_exporter": "python",
   "pygments_lexer": "ipython3",
   "version": "3.8.10"
  }
 },
 "nbformat": 4,
 "nbformat_minor": 5
}
