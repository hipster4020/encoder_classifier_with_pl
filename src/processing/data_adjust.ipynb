{
 "cells": [
  {
   "cell_type": "markdown",
   "id": "3e774971-7968-4df1-b8b9-7a163775ad64",
   "metadata": {},
   "source": [
    "# *db load*"
   ]
  },
  {
   "cell_type": "code",
   "execution_count": 1,
   "id": "446ff5ed-515f-41b7-b383-6fac7644727d",
   "metadata": {},
   "outputs": [],
   "source": [
    "import swifter\n",
    "import config \n",
    "from pshmodule.db import alchemy\n",
    "from pshmodule.utils import filemanager as fm\n",
    "from pshmodule.processing import processing as p"
   ]
  },
  {
   "cell_type": "code",
   "execution_count": 2,
   "id": "5f0a7ea1-a2b0-4e96-b6d1-253ecd18fb35",
   "metadata": {},
   "outputs": [
    {
     "name": "stdout",
     "output_type": "stream",
     "text": [
      "excute start\n",
      "df's length : 100\n",
      "excute end\n",
      "------------------------------------------------------------------------------------------------------------------------------------------------------------------------------------------\n"
     ]
    }
   ],
   "source": [
    "df = alchemy.DataSource(\n",
    "    config.db_info, config.db\n",
    ").select_query_to_df(\n",
    "    \"select title, content from indexing_news where content is not null order by create_date desc limit 100\"\n",
    ")"
   ]
  },
  {
   "cell_type": "code",
   "execution_count": 3,
   "id": "56268eb8-661d-4684-8c7f-bf2f89388eef",
   "metadata": {},
   "outputs": [
    {
     "name": "stdout",
     "output_type": "stream",
     "text": [
      "                             title  \\\n",
      "0             [디지털 세상 읽기] 창업자의 말솜씨   \n",
      "1                [포토뉴스]참새와 씨름하는 농부   \n",
      "2              [포토뉴스]한국유엔체제학회 학술대회   \n",
      "3  노부모는 왜 만삭 딸에게 음독자살을 요구했나[그해 오늘]   \n",
      "4       [카드뉴스] 2022년 8월 30일 오늘의 운세   \n",
      "\n",
      "                                             content  \n",
      "0  박상현 오터레터 발행인사무실 공유 업체 위워크(WeWork) 창업자이자 CEO였던 ...  \n",
      "1  참새 습격 당한 수확 앞둔 조밭29일 강릉시 경포동의 농촌 들녘에 수확을 앞둔 조밭...  \n",
      "2  반기문 前 유엔사무총장 화상 기조연설2022년 한국유엔체제학회 하계학술대회가 29일...  \n",
      "3  1997년 박모양 유괴 살인…만삭 임신부 범행 충격결혼 이후 낭비벽에 수천만원 빚지...  \n",
      "4  2022년 8월 30일 오늘의 운세입니다.△물병자리 : 극과 극은 통한다…너무 반가...  \n"
     ]
    }
   ],
   "source": [
    "print(df.head())"
   ]
  },
  {
   "cell_type": "markdown",
   "id": "be4bac80-aa45-4a75-9d3f-77af64781ad1",
   "metadata": {},
   "source": [
    "# *processing*"
   ]
  },
  {
   "cell_type": "code",
   "execution_count": 4,
   "id": "c835930d-32ed-4a98-883d-925546fcd3b1",
   "metadata": {},
   "outputs": [],
   "source": [
    "df['context'] = df.title + \" \" + df.content"
   ]
  },
  {
   "cell_type": "code",
   "execution_count": 5,
   "id": "c09c1c29-be5f-410c-8beb-3bab1c1ab84f",
   "metadata": {},
   "outputs": [
    {
     "data": {
      "application/vnd.jupyter.widget-view+json": {
       "model_id": "edeee06b58e9435d8187c89cbaa6fdde",
       "version_major": 2,
       "version_minor": 0
      },
      "text/plain": [
       "Pandas Apply:   0%|          | 0/100 [00:00<?, ?it/s]"
      ]
     },
     "metadata": {},
     "output_type": "display_data"
    }
   ],
   "source": [
    "df['p_context'] = df.context.swifter.apply(p.news_preprocessing)"
   ]
  },
  {
   "cell_type": "code",
   "execution_count": 6,
   "id": "bf95ab18-bf56-47ad-9efb-d408563e7d59",
   "metadata": {},
   "outputs": [
    {
     "data": {
      "text/html": [
       "<div>\n",
       "<style scoped>\n",
       "    .dataframe tbody tr th:only-of-type {\n",
       "        vertical-align: middle;\n",
       "    }\n",
       "\n",
       "    .dataframe tbody tr th {\n",
       "        vertical-align: top;\n",
       "    }\n",
       "\n",
       "    .dataframe thead th {\n",
       "        text-align: right;\n",
       "    }\n",
       "</style>\n",
       "<table border=\"1\" class=\"dataframe\">\n",
       "  <thead>\n",
       "    <tr style=\"text-align: right;\">\n",
       "      <th></th>\n",
       "      <th>title</th>\n",
       "      <th>content</th>\n",
       "      <th>context</th>\n",
       "      <th>p_context</th>\n",
       "    </tr>\n",
       "  </thead>\n",
       "  <tbody>\n",
       "    <tr>\n",
       "      <th>0</th>\n",
       "      <td>[디지털 세상 읽기] 창업자의 말솜씨</td>\n",
       "      <td>박상현 오터레터 발행인사무실 공유 업체 위워크(WeWork) 창업자이자 CEO였던 ...</td>\n",
       "      <td>[디지털 세상 읽기] 창업자의 말솜씨 박상현 오터레터 발행인사무실 공유 업체 위워크...</td>\n",
       "      <td>창업자의 말솜씨 박상현 오터레터 발행인사무실 공유 업체 위워크 창업자이자 CEO였던...</td>\n",
       "    </tr>\n",
       "    <tr>\n",
       "      <th>1</th>\n",
       "      <td>[포토뉴스]참새와 씨름하는 농부</td>\n",
       "      <td>참새 습격 당한 수확 앞둔 조밭29일 강릉시 경포동의 농촌 들녘에 수확을 앞둔 조밭...</td>\n",
       "      <td>[포토뉴스]참새와 씨름하는 농부 참새 습격 당한 수확 앞둔 조밭29일 강릉시 경포동...</td>\n",
       "      <td>참새와 씨름하는 농부 참새 습격 당한 수확 앞둔 조밭29일 강릉시 경포동의 농촌 들...</td>\n",
       "    </tr>\n",
       "    <tr>\n",
       "      <th>2</th>\n",
       "      <td>[포토뉴스]한국유엔체제학회 학술대회</td>\n",
       "      <td>반기문 前 유엔사무총장 화상 기조연설2022년 한국유엔체제학회 하계학술대회가 29일...</td>\n",
       "      <td>[포토뉴스]한국유엔체제학회 학술대회 반기문 前 유엔사무총장 화상 기조연설2022년 ...</td>\n",
       "      <td>한국유엔체제학회 학술대회 반기문  유엔사무총장 화상 기조연설2022년 한국유엔체제학...</td>\n",
       "    </tr>\n",
       "    <tr>\n",
       "      <th>3</th>\n",
       "      <td>노부모는 왜 만삭 딸에게 음독자살을 요구했나[그해 오늘]</td>\n",
       "      <td>1997년 박모양 유괴 살인…만삭 임신부 범행 충격결혼 이후 낭비벽에 수천만원 빚지...</td>\n",
       "      <td>노부모는 왜 만삭 딸에게 음독자살을 요구했나[그해 오늘] 1997년 박모양 유괴 살...</td>\n",
       "      <td>노부모는 왜 만삭 딸에게 음독자살을 요구했나 1997년 8월 30일  서울 잠원동에...</td>\n",
       "    </tr>\n",
       "    <tr>\n",
       "      <th>4</th>\n",
       "      <td>[카드뉴스] 2022년 8월 30일 오늘의 운세</td>\n",
       "      <td>2022년 8월 30일 오늘의 운세입니다.△물병자리 : 극과 극은 통한다…너무 반가...</td>\n",
       "      <td>[카드뉴스] 2022년 8월 30일 오늘의 운세 2022년 8월 30일 오늘의 운세...</td>\n",
       "      <td>2022년 8월 30일 오늘의 운세 2022년 8월 30일 오늘의 운세입니다 물병자...</td>\n",
       "    </tr>\n",
       "  </tbody>\n",
       "</table>\n",
       "</div>"
      ],
      "text/plain": [
       "                             title  \\\n",
       "0             [디지털 세상 읽기] 창업자의 말솜씨   \n",
       "1                [포토뉴스]참새와 씨름하는 농부   \n",
       "2              [포토뉴스]한국유엔체제학회 학술대회   \n",
       "3  노부모는 왜 만삭 딸에게 음독자살을 요구했나[그해 오늘]   \n",
       "4       [카드뉴스] 2022년 8월 30일 오늘의 운세   \n",
       "\n",
       "                                             content  \\\n",
       "0  박상현 오터레터 발행인사무실 공유 업체 위워크(WeWork) 창업자이자 CEO였던 ...   \n",
       "1  참새 습격 당한 수확 앞둔 조밭29일 강릉시 경포동의 농촌 들녘에 수확을 앞둔 조밭...   \n",
       "2  반기문 前 유엔사무총장 화상 기조연설2022년 한국유엔체제학회 하계학술대회가 29일...   \n",
       "3  1997년 박모양 유괴 살인…만삭 임신부 범행 충격결혼 이후 낭비벽에 수천만원 빚지...   \n",
       "4  2022년 8월 30일 오늘의 운세입니다.△물병자리 : 극과 극은 통한다…너무 반가...   \n",
       "\n",
       "                                             context  \\\n",
       "0  [디지털 세상 읽기] 창업자의 말솜씨 박상현 오터레터 발행인사무실 공유 업체 위워크...   \n",
       "1  [포토뉴스]참새와 씨름하는 농부 참새 습격 당한 수확 앞둔 조밭29일 강릉시 경포동...   \n",
       "2  [포토뉴스]한국유엔체제학회 학술대회 반기문 前 유엔사무총장 화상 기조연설2022년 ...   \n",
       "3  노부모는 왜 만삭 딸에게 음독자살을 요구했나[그해 오늘] 1997년 박모양 유괴 살...   \n",
       "4  [카드뉴스] 2022년 8월 30일 오늘의 운세 2022년 8월 30일 오늘의 운세...   \n",
       "\n",
       "                                           p_context  \n",
       "0  창업자의 말솜씨 박상현 오터레터 발행인사무실 공유 업체 위워크 창업자이자 CEO였던...  \n",
       "1  참새와 씨름하는 농부 참새 습격 당한 수확 앞둔 조밭29일 강릉시 경포동의 농촌 들...  \n",
       "2  한국유엔체제학회 학술대회 반기문  유엔사무총장 화상 기조연설2022년 한국유엔체제학...  \n",
       "3  노부모는 왜 만삭 딸에게 음독자살을 요구했나 1997년 8월 30일  서울 잠원동에...  \n",
       "4  2022년 8월 30일 오늘의 운세 2022년 8월 30일 오늘의 운세입니다 물병자...  "
      ]
     },
     "execution_count": 6,
     "metadata": {},
     "output_type": "execute_result"
    }
   ],
   "source": [
    "df.head()"
   ]
  },
  {
   "cell_type": "code",
   "execution_count": 7,
   "id": "bcf73ee7-314d-4aa9-b5a0-76a6fc385861",
   "metadata": {},
   "outputs": [],
   "source": [
    "df = df[['p_context']]"
   ]
  },
  {
   "cell_type": "code",
   "execution_count": 8,
   "id": "7aa97589-7fc1-4fa0-9ef5-4a9ff6ea6205",
   "metadata": {},
   "outputs": [],
   "source": [
    "df.rename(columns={'p_context':'content'}, inplace=True)"
   ]
  },
  {
   "cell_type": "markdown",
   "id": "5e877cc9-1eca-4682-88e1-041d884e2d5a",
   "metadata": {},
   "source": [
    "# *data save*"
   ]
  },
  {
   "cell_type": "code",
   "execution_count": 10,
   "id": "5801c51c-7d41-4b54-ba99-f638865a3026",
   "metadata": {},
   "outputs": [
    {
     "data": {
      "text/plain": [
       "(100, 1)"
      ]
     },
     "execution_count": 10,
     "metadata": {},
     "output_type": "execute_result"
    }
   ],
   "source": [
    "df.shape"
   ]
  },
  {
   "cell_type": "code",
   "execution_count": 12,
   "id": "7e4c1abd-34eb-4ccf-9ba0-96df9de40858",
   "metadata": {},
   "outputs": [
    {
     "name": "stdout",
     "output_type": "stream",
     "text": [
      "Saved 100 records\n"
     ]
    }
   ],
   "source": [
    "fm.save('/home/jovyan/shpark-datashare/news_category/data/git_category_unlabeled.xlsx', df)"
   ]
  },
  {
   "cell_type": "code",
   "execution_count": null,
   "id": "b737e06a-ea95-454b-ba4a-6c1fe43f27f4",
   "metadata": {},
   "outputs": [],
   "source": []
  }
 ],
 "metadata": {
  "kernelspec": {
   "display_name": "Python 3",
   "language": "python",
   "name": "python3"
  },
  "language_info": {
   "codemirror_mode": {
    "name": "ipython",
    "version": 3
   },
   "file_extension": ".py",
   "mimetype": "text/x-python",
   "name": "python",
   "nbconvert_exporter": "python",
   "pygments_lexer": "ipython3",
   "version": "3.8.10"
  }
 },
 "nbformat": 4,
 "nbformat_minor": 5
}
