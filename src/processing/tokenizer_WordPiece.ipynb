{
 "cells": [
  {
   "cell_type": "markdown",
   "id": "f8632756-c4b5-4f2c-bab7-79e67b9df1a9",
   "metadata": {},
   "source": [
    "# *data load*"
   ]
  },
  {
   "cell_type": "code",
   "execution_count": 1,
   "id": "cda061e5-d851-4b09-b062-81733069bc83",
   "metadata": {},
   "outputs": [],
   "source": [
    "import json\n",
    "import re\n",
    "from pprint import pprint\n",
    "import config\n",
    "import swifter\n",
    "from pshmodule.utils import filemanager as fm\n",
    "from pshmodule.processing import processing as p"
   ]
  },
  {
   "cell_type": "code",
   "execution_count": 2,
   "id": "9e263914-0aa7-403b-91b6-8e32f783c803",
   "metadata": {},
   "outputs": [
    {
     "name": "stdout",
     "output_type": "stream",
     "text": [
      "extension : .json\n",
      "Loaded 23936 records from /home/jovyan/shpark-datashare/news_category/data/git_category.json\n"
     ]
    }
   ],
   "source": [
    "df = fm.load(config.data_path)"
   ]
  },
  {
   "cell_type": "markdown",
   "id": "24de5baf-8f36-4c49-9b34-8976d777d66b",
   "metadata": {},
   "source": [
    "# *data processing*"
   ]
  },
  {
   "cell_type": "code",
   "execution_count": 3,
   "id": "d744ee80-0b89-4e40-a4de-5b5e3e7cb3a7",
   "metadata": {},
   "outputs": [
    {
     "data": {
      "text/html": [
       "<div>\n",
       "<style scoped>\n",
       "    .dataframe tbody tr th:only-of-type {\n",
       "        vertical-align: middle;\n",
       "    }\n",
       "\n",
       "    .dataframe tbody tr th {\n",
       "        vertical-align: top;\n",
       "    }\n",
       "\n",
       "    .dataframe thead th {\n",
       "        text-align: right;\n",
       "    }\n",
       "</style>\n",
       "<table border=\"1\" class=\"dataframe\">\n",
       "  <thead>\n",
       "    <tr style=\"text-align: right;\">\n",
       "      <th></th>\n",
       "      <th>content</th>\n",
       "      <th>label</th>\n",
       "    </tr>\n",
       "  </thead>\n",
       "  <tbody>\n",
       "    <tr>\n",
       "      <th>0</th>\n",
       "      <td>더불어민주당 부동산특별위원회는 주택 공급대책을 추가로 마련하기 위한 논의를 한창 벌...</td>\n",
       "      <td>[28]</td>\n",
       "    </tr>\n",
       "    <tr>\n",
       "      <th>1</th>\n",
       "      <td>현대인들의 고민거리 중에 적잖은 부분을 차지하는 것이 탈모다 국민건강보험공단에 따르...</td>\n",
       "      <td>[18, 27]</td>\n",
       "    </tr>\n",
       "    <tr>\n",
       "      <th>2</th>\n",
       "      <td>문화체육관광부는 한국관광공사와 함께 광역기초자치단체를 대상으로 26일부터 7월 30...</td>\n",
       "      <td>[6, 16]</td>\n",
       "    </tr>\n",
       "    <tr>\n",
       "      <th>3</th>\n",
       "      <td>토요타의 중형 세단 캠리가 상품성을 개선한 2022년형 모델로 돌아왔다 스포티한 디...</td>\n",
       "      <td>[24]</td>\n",
       "    </tr>\n",
       "    <tr>\n",
       "      <th>4</th>\n",
       "      <td>만 6074세 고령층의 코로나19 백신 접종 사전예약률이 꾸준히 올라 50를 눈앞에...</td>\n",
       "      <td>[19, 25]</td>\n",
       "    </tr>\n",
       "  </tbody>\n",
       "</table>\n",
       "</div>"
      ],
      "text/plain": [
       "                                             content     label\n",
       "0  더불어민주당 부동산특별위원회는 주택 공급대책을 추가로 마련하기 위한 논의를 한창 벌...      [28]\n",
       "1  현대인들의 고민거리 중에 적잖은 부분을 차지하는 것이 탈모다 국민건강보험공단에 따르...  [18, 27]\n",
       "2  문화체육관광부는 한국관광공사와 함께 광역기초자치단체를 대상으로 26일부터 7월 30...   [6, 16]\n",
       "3  토요타의 중형 세단 캠리가 상품성을 개선한 2022년형 모델로 돌아왔다 스포티한 디...      [24]\n",
       "4  만 6074세 고령층의 코로나19 백신 접종 사전예약률이 꾸준히 올라 50를 눈앞에...  [19, 25]"
      ]
     },
     "execution_count": 3,
     "metadata": {},
     "output_type": "execute_result"
    }
   ],
   "source": [
    "df.head()"
   ]
  },
  {
   "cell_type": "code",
   "execution_count": 4,
   "id": "8277681d-886f-45bc-a328-280094ae8592",
   "metadata": {},
   "outputs": [
    {
     "data": {
      "application/vnd.jupyter.widget-view+json": {
       "model_id": "a5d372530abd43ba972d0d39bb4b447e",
       "version_major": 2,
       "version_minor": 0
      },
      "text/plain": [
       "Pandas Apply:   0%|          | 0/23936 [00:00<?, ?it/s]"
      ]
     },
     "metadata": {},
     "output_type": "display_data"
    }
   ],
   "source": [
    "df['content'] = df.content.swifter.apply(p.news_preprocessing)"
   ]
  },
  {
   "cell_type": "code",
   "execution_count": 5,
   "id": "19ece658-7221-4130-808e-266586bb5a88",
   "metadata": {},
   "outputs": [
    {
     "data": {
      "text/html": [
       "<div>\n",
       "<style scoped>\n",
       "    .dataframe tbody tr th:only-of-type {\n",
       "        vertical-align: middle;\n",
       "    }\n",
       "\n",
       "    .dataframe tbody tr th {\n",
       "        vertical-align: top;\n",
       "    }\n",
       "\n",
       "    .dataframe thead th {\n",
       "        text-align: right;\n",
       "    }\n",
       "</style>\n",
       "<table border=\"1\" class=\"dataframe\">\n",
       "  <thead>\n",
       "    <tr style=\"text-align: right;\">\n",
       "      <th></th>\n",
       "      <th>content</th>\n",
       "      <th>label</th>\n",
       "    </tr>\n",
       "  </thead>\n",
       "  <tbody>\n",
       "    <tr>\n",
       "      <th>0</th>\n",
       "      <td>더불어민주당 부동산특별위원회는 주택 공급대책을 추가로 마련하기 위한 논의를 한창 벌...</td>\n",
       "      <td>[28]</td>\n",
       "    </tr>\n",
       "    <tr>\n",
       "      <th>1</th>\n",
       "      <td>현대인들의 고민거리 중에 적잖은 부분을 차지하는 것이 탈모다 국민건강보험공단에 따르...</td>\n",
       "      <td>[18, 27]</td>\n",
       "    </tr>\n",
       "    <tr>\n",
       "      <th>2</th>\n",
       "      <td>문화체육관광부는 한국관광공사와 함께 광역기초자치단체를 대상으로 26일부터 7월 30...</td>\n",
       "      <td>[6, 16]</td>\n",
       "    </tr>\n",
       "    <tr>\n",
       "      <th>3</th>\n",
       "      <td>토요타의 중형 세단 캠리가 상품성을 개선한 2022년형 모델로 돌아왔다 스포티한 디...</td>\n",
       "      <td>[24]</td>\n",
       "    </tr>\n",
       "    <tr>\n",
       "      <th>4</th>\n",
       "      <td>만 6074세 고령층의 코로나19 백신 접종 사전예약률이 꾸준히 올라 50를 눈앞에...</td>\n",
       "      <td>[19, 25]</td>\n",
       "    </tr>\n",
       "  </tbody>\n",
       "</table>\n",
       "</div>"
      ],
      "text/plain": [
       "                                             content     label\n",
       "0  더불어민주당 부동산특별위원회는 주택 공급대책을 추가로 마련하기 위한 논의를 한창 벌...      [28]\n",
       "1  현대인들의 고민거리 중에 적잖은 부분을 차지하는 것이 탈모다 국민건강보험공단에 따르...  [18, 27]\n",
       "2  문화체육관광부는 한국관광공사와 함께 광역기초자치단체를 대상으로 26일부터 7월 30...   [6, 16]\n",
       "3  토요타의 중형 세단 캠리가 상품성을 개선한 2022년형 모델로 돌아왔다 스포티한 디...      [24]\n",
       "4  만 6074세 고령층의 코로나19 백신 접종 사전예약률이 꾸준히 올라 50를 눈앞에...  [19, 25]"
      ]
     },
     "execution_count": 5,
     "metadata": {},
     "output_type": "execute_result"
    }
   ],
   "source": [
    "df.head()"
   ]
  },
  {
   "cell_type": "markdown",
   "id": "05b4ef05-fb99-4a3c-8c88-2db7e25eea7d",
   "metadata": {},
   "source": [
    "# *tokenizer*"
   ]
  },
  {
   "cell_type": "code",
   "execution_count": 6,
   "id": "1dab3633-9fc6-45f6-b76c-a318dfdd0267",
   "metadata": {},
   "outputs": [],
   "source": [
    "def gen():\n",
    "    for row in df.content:\n",
    "        yield p.news_preprocessing(row)"
   ]
  },
  {
   "cell_type": "code",
   "execution_count": 7,
   "id": "7b2e383a-c084-4f62-aa8f-17383e54bd8d",
   "metadata": {},
   "outputs": [],
   "source": [
    "vocab_size = 24000"
   ]
  },
  {
   "cell_type": "code",
   "execution_count": 8,
   "id": "97f52d31-6a88-4d2e-afd5-d5683dfdaacc",
   "metadata": {
    "tags": []
   },
   "outputs": [
    {
     "name": "stdout",
     "output_type": "stream",
     "text": [
      "['[PAD]',\n",
      " '[UNK]',\n",
      " '[CLS]',\n",
      " '[SEP]',\n",
      " '[MASK]',\n",
      " '[BOS]',\n",
      " '[EOS]',\n",
      " '[TSEP]',\n",
      " '[NAME]',\n",
      " '[URL]',\n",
      " '[UNK0]',\n",
      " '[UNK1]',\n",
      " '[UNK2]',\n",
      " '[UNK3]',\n",
      " '[UNK4]',\n",
      " '[UNK5]',\n",
      " '[UNK6]',\n",
      " '[UNK7]',\n",
      " '[UNK8]',\n",
      " '[UNK9]',\n",
      " '[UNUSED0]',\n",
      " '[UNUSED1]',\n",
      " '[UNUSED2]',\n",
      " '[UNUSED3]',\n",
      " '[UNUSED4]',\n",
      " '[UNUSED5]',\n",
      " '[UNUSED6]',\n",
      " '[UNUSED7]',\n",
      " '[UNUSED8]',\n",
      " '[UNUSED9]',\n",
      " '[UNUSED10]',\n",
      " '[UNUSED11]',\n",
      " '[UNUSED12]',\n",
      " '[UNUSED13]',\n",
      " '[UNUSED14]',\n",
      " '[UNUSED15]',\n",
      " '[UNUSED16]',\n",
      " '[UNUSED17]',\n",
      " '[UNUSED18]',\n",
      " '[UNUSED19]',\n",
      " '[UNUSED20]',\n",
      " '[UNUSED21]',\n",
      " '[UNUSED22]',\n",
      " '[UNUSED23]',\n",
      " '[UNUSED24]',\n",
      " '[UNUSED25]',\n",
      " '[UNUSED26]',\n",
      " '[UNUSED27]',\n",
      " '[UNUSED28]',\n",
      " '[UNUSED29]',\n",
      " '[UNUSED30]',\n",
      " '[UNUSED31]',\n",
      " '[UNUSED32]',\n",
      " '[UNUSED33]',\n",
      " '[UNUSED34]',\n",
      " '[UNUSED35]',\n",
      " '[UNUSED36]',\n",
      " '[UNUSED37]',\n",
      " '[UNUSED38]',\n",
      " '[UNUSED39]',\n",
      " '[UNUSED40]',\n",
      " '[UNUSED41]',\n",
      " '[UNUSED42]',\n",
      " '[UNUSED43]',\n",
      " '[UNUSED44]',\n",
      " '[UNUSED45]',\n",
      " '[UNUSED46]',\n",
      " '[UNUSED47]',\n",
      " '[UNUSED48]',\n",
      " '[UNUSED49]',\n",
      " '[UNUSED50]',\n",
      " '[UNUSED51]',\n",
      " '[UNUSED52]',\n",
      " '[UNUSED53]',\n",
      " '[UNUSED54]',\n",
      " '[UNUSED55]',\n",
      " '[UNUSED56]',\n",
      " '[UNUSED57]',\n",
      " '[UNUSED58]',\n",
      " '[UNUSED59]',\n",
      " '[UNUSED60]',\n",
      " '[UNUSED61]',\n",
      " '[UNUSED62]',\n",
      " '[UNUSED63]',\n",
      " '[UNUSED64]',\n",
      " '[UNUSED65]',\n",
      " '[UNUSED66]',\n",
      " '[UNUSED67]',\n",
      " '[UNUSED68]',\n",
      " '[UNUSED69]',\n",
      " '[UNUSED70]',\n",
      " '[UNUSED71]',\n",
      " '[UNUSED72]',\n",
      " '[UNUSED73]',\n",
      " '[UNUSED74]',\n",
      " '[UNUSED75]',\n",
      " '[UNUSED76]',\n",
      " '[UNUSED77]',\n",
      " '[UNUSED78]',\n",
      " '[UNUSED79]',\n",
      " '[UNUSED80]',\n",
      " '[UNUSED81]',\n",
      " '[UNUSED82]',\n",
      " '[UNUSED83]',\n",
      " '[UNUSED84]',\n",
      " '[UNUSED85]',\n",
      " '[UNUSED86]',\n",
      " '[UNUSED87]',\n",
      " '[UNUSED88]',\n",
      " '[UNUSED89]',\n",
      " '[UNUSED90]',\n",
      " '[UNUSED91]',\n",
      " '[UNUSED92]',\n",
      " '[UNUSED93]',\n",
      " '[UNUSED94]',\n",
      " '[UNUSED95]',\n",
      " '[UNUSED96]',\n",
      " '[UNUSED97]',\n",
      " '[UNUSED98]',\n",
      " '[UNUSED99]']\n"
     ]
    }
   ],
   "source": [
    "user_defined_symbols = [\"[PAD]\", \"[UNK]\", \"[CLS]\", \"[SEP]\", \"[MASK]\", \"[BOS]\", \"[EOS]\", \"[TSEP]\", \"[NAME]\", \"[URL]\"]\n",
    "user_defined_symbols += [f\"[UNK{i}]\" for i in range(10)]\n",
    "unused_token_num = 100\n",
    "unused_list = [f\"[UNUSED{i}]\" for i in range(100)]\n",
    "user_defined_symbols += unused_list\n",
    "\n",
    "pprint(user_defined_symbols)"
   ]
  },
  {
   "cell_type": "markdown",
   "id": "7d824a32-03a6-406a-b693-ecddd6b32b23",
   "metadata": {},
   "source": [
    "# *train*"
   ]
  },
  {
   "cell_type": "code",
   "execution_count": 9,
   "id": "7a6437b5-c49c-43e8-a64c-f10ff93777be",
   "metadata": {},
   "outputs": [],
   "source": [
    "from tokenizers import Tokenizer\n",
    "from tokenizers.models import WordPiece\n",
    "\n",
    "bert_tokenizer = Tokenizer(WordPiece(unk_token=\"[UNK]\"))"
   ]
  },
  {
   "cell_type": "code",
   "execution_count": 10,
   "id": "f9296a18-8d4a-43d5-ba5a-d948d1a70e5f",
   "metadata": {},
   "outputs": [],
   "source": [
    "from tokenizers import normalizers\n",
    "from tokenizers.normalizers import Lowercase, NFD, StripAccents\n",
    "\n",
    "bert_tokenizer.normalizer = normalizers.Sequence([NFD(), Lowercase(), StripAccents()])"
   ]
  },
  {
   "cell_type": "code",
   "execution_count": 11,
   "id": "98df948b-03aa-417b-861b-91d03cbf445f",
   "metadata": {},
   "outputs": [],
   "source": [
    "from tokenizers.pre_tokenizers import Whitespace\n",
    "\n",
    "bert_tokenizer.pre_tokenizer = Whitespace()"
   ]
  },
  {
   "cell_type": "code",
   "execution_count": 12,
   "id": "60a3fb3a-ed1b-426d-95f0-921c6a60f3cd",
   "metadata": {},
   "outputs": [],
   "source": [
    "from tokenizers.processors import TemplateProcessing\n",
    "\n",
    "bert_tokenizer.post_processor = TemplateProcessing(\n",
    "    single=\"[CLS] $A [SEP]\",\n",
    "    pair=\"[CLS] $A [SEP] $B:1 [SEP]:1\",\n",
    "    special_tokens=[(t, i) for i, t in enumerate(user_defined_symbols)],\n",
    ")"
   ]
  },
  {
   "cell_type": "code",
   "execution_count": 13,
   "id": "1e88272f-b595-4cfb-9998-5e60bd8de5b3",
   "metadata": {},
   "outputs": [],
   "source": [
    "from tokenizers.trainers import WordPieceTrainer\n",
    "\n",
    "trainer = WordPieceTrainer(\n",
    "    vocab_size=vocab_size, \n",
    "    special_tokens=user_defined_symbols,\n",
    ")\n",
    "bert_tokenizer.train_from_iterator(gen(), trainer)"
   ]
  },
  {
   "cell_type": "markdown",
   "id": "2fdb9653-b3d3-4161-9d8a-7d544a6c5681",
   "metadata": {},
   "source": [
    "### test"
   ]
  },
  {
   "cell_type": "code",
   "execution_count": 14,
   "id": "a6b41582-d61f-426f-be1b-6c10428ea3cb",
   "metadata": {},
   "outputs": [
    {
     "name": "stdout",
     "output_type": "stream",
     "text": [
      "[2, 4153, 1476, 9218, 261, 3]\n"
     ]
    },
    {
     "data": {
      "text/plain": [
       "'테스트 용 문자 ##ᆼ'"
      ]
     },
     "execution_count": 14,
     "metadata": {},
     "output_type": "execute_result"
    }
   ],
   "source": [
    "output = bert_tokenizer.encode(\"테스트 용 문장\")\n",
    "print(output.ids)\n",
    "\n",
    "bert_tokenizer.decode(output.ids)"
   ]
  },
  {
   "cell_type": "code",
   "execution_count": 15,
   "id": "bae8dc93-27a0-41a3-af73-1282205c6277",
   "metadata": {},
   "outputs": [
    {
     "data": {
      "text/plain": [
       "'테스트 용 문장'"
      ]
     },
     "execution_count": 15,
     "metadata": {},
     "output_type": "execute_result"
    }
   ],
   "source": [
    "from tokenizers import decoders\n",
    "\n",
    "bert_tokenizer.decoder = decoders.WordPiece()\n",
    "bert_tokenizer.decode(output.ids)"
   ]
  },
  {
   "cell_type": "markdown",
   "id": "0ae58f0b-f0f2-4399-9d77-7e40006e90cf",
   "metadata": {},
   "source": [
    "# "
   ]
  },
  {
   "cell_type": "markdown",
   "id": "9edcc86f-a97f-4de9-abda-b7798a31e478",
   "metadata": {},
   "source": [
    "# convert transformers tokenizer and save"
   ]
  },
  {
   "cell_type": "code",
   "execution_count": 16,
   "id": "93cba8f6-95c0-48eb-b2ef-7c4d03d401ed",
   "metadata": {},
   "outputs": [],
   "source": [
    "from transformers import ElectraTokenizerFast\n",
    "\n",
    "\n",
    "fast_tokenizer = ElectraTokenizerFast(tokenizer_object=bert_tokenizer)"
   ]
  },
  {
   "cell_type": "code",
   "execution_count": 17,
   "id": "a2783163-81d1-462c-b53e-fafeae592e6e",
   "metadata": {},
   "outputs": [
    {
     "data": {
      "text/plain": [
       "0"
      ]
     },
     "execution_count": 17,
     "metadata": {},
     "output_type": "execute_result"
    }
   ],
   "source": [
    "fast_tokenizer.pad_token = \"[PAD]\"\n",
    "fast_tokenizer.unk_token = \"[UNK]\"\n",
    "fast_tokenizer.cls_token = \"[CLS]\"\n",
    "fast_tokenizer.sep_token = \"[SEP]\"\n",
    "fast_tokenizer.mask_token = \"[MASK]\"\n",
    "fast_tokenizer.bos_token = \"[BOS]\"\n",
    "fast_tokenizer.eos_token = \"[EOS]\"\n",
    "\n",
    "special_tokens_dict = {'additional_special_tokens': user_defined_symbols}\n",
    "fast_tokenizer.add_special_tokens(special_tokens_dict)"
   ]
  },
  {
   "cell_type": "code",
   "execution_count": 18,
   "id": "be120391-fec1-4571-9aeb-26d00fe50ef4",
   "metadata": {},
   "outputs": [
    {
     "data": {
      "text/plain": [
       "'[CLS] 테스트용 [SEP]'"
      ]
     },
     "execution_count": 18,
     "metadata": {},
     "output_type": "execute_result"
    }
   ],
   "source": [
    "fast_tokenizer.decode(fast_tokenizer.encode(\"테스트용\"))"
   ]
  },
  {
   "cell_type": "code",
   "execution_count": 19,
   "id": "50fda92e-a0ef-4915-814d-05087ccf7405",
   "metadata": {},
   "outputs": [
    {
     "data": {
      "text/plain": [
       "('/home/jovyan/shpark-datashare/news_category/result/tokenizer_wordpiece/tokenizer_config.json',\n",
       " '/home/jovyan/shpark-datashare/news_category/result/tokenizer_wordpiece/special_tokens_map.json',\n",
       " '/home/jovyan/shpark-datashare/news_category/result/tokenizer_wordpiece/vocab.txt',\n",
       " '/home/jovyan/shpark-datashare/news_category/result/tokenizer_wordpiece/added_tokens.json',\n",
       " '/home/jovyan/shpark-datashare/news_category/result/tokenizer_wordpiece/tokenizer.json')"
      ]
     },
     "execution_count": 19,
     "metadata": {},
     "output_type": "execute_result"
    }
   ],
   "source": [
    "fast_tokenizer.save_pretrained(config.tokenizer_path)"
   ]
  },
  {
   "cell_type": "code",
   "execution_count": null,
   "id": "de4beeff-f520-4194-a70f-085ec61a0c67",
   "metadata": {},
   "outputs": [],
   "source": []
  }
 ],
 "metadata": {
  "kernelspec": {
   "display_name": "Python 3",
   "language": "python",
   "name": "python3"
  },
  "language_info": {
   "codemirror_mode": {
    "name": "ipython",
    "version": 3
   },
   "file_extension": ".py",
   "mimetype": "text/x-python",
   "name": "python",
   "nbconvert_exporter": "python",
   "pygments_lexer": "ipython3",
   "version": "3.8.10"
  }
 },
 "nbformat": 4,
 "nbformat_minor": 5
}
